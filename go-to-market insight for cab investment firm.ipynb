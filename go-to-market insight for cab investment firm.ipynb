{
 "cells": [
  {
   "cell_type": "markdown",
   "id": "dd42b018",
   "metadata": {},
   "source": [
    "# Go-to-Market (G2M) insight for Cab Investment firm"
   ]
  },
  {
   "cell_type": "markdown",
   "id": "6f3088ca",
   "metadata": {},
   "source": [
    "## Introduction"
   ]
  },
  {
   "cell_type": "markdown",
   "id": "8fb18c15",
   "metadata": {},
   "source": [
    "### The Client"
   ]
  },
  {
   "cell_type": "markdown",
   "id": "670a24b3",
   "metadata": {},
   "source": [
    "XYZ is a private firm in US. Due to remarkable growth in the Cab Industry in last few years and multiple key players in the market, it is planning for an investment in Cab industry and as per their Go-to-Market (G2M) strategy they want to understand the market before making final decision."
   ]
  },
  {
   "cell_type": "markdown",
   "id": "a3f2a49c",
   "metadata": {},
   "source": [
    "### Objective"
   ]
  },
  {
   "cell_type": "markdown",
   "id": "bcf25911",
   "metadata": {},
   "source": [
    "Provide actionable insights to help XYZ firm in identifying the right company for making\n",
    "investment."
   ]
  },
  {
   "cell_type": "markdown",
   "id": "ac3847ca",
   "metadata": {},
   "source": [
    "### Data"
   ]
  },
  {
   "cell_type": "markdown",
   "id": "afd2c889",
   "metadata": {},
   "source": [
    "We have been provided 4 individual data sets. Time period of data is from 31/01/2016 to 31/12/2018.\n",
    "\n",
    "Below are the list of datasets which are provided for the analysis:\n",
    "\n",
    "**Cab_Data.csv** – This file includes details of transaction for 2 cab companies\n",
    "\n",
    "**City.csv** – This file contains list of US cities, their population and number of cab users\n",
    "\n",
    "**Customer_ID.csv** – This is a mapping table that contains a unique identifier which links the customer’s demographic details\n",
    "\n",
    "**Transaction_ID.csv** – This is a mapping table that contains transaction to customer mapping and payment mode"
   ]
  },
  {
   "cell_type": "markdown",
   "id": "eb8b30b7",
   "metadata": {},
   "source": [
    "### Questions to Analyse"
   ]
  },
  {
   "cell_type": "markdown",
   "id": "e805745b",
   "metadata": {},
   "source": [
    "- Which cab company has had the most rides over the years?\n",
    "\n",
    "- Which cab company has made more profit over the years?\n",
    "\n",
    "- What is the average profit per ride for each company?\n",
    "\n",
    "- Which cab company has higher-income users?\n",
    "\n",
    "- Which age group is most popular with each cab company?\n",
    "\n",
    "- How have users made payment over the years?\n",
    "\n",
    "- What is the average kilometre travelled per ride for each company?\n",
    "\n",
    "- Which cab company has the most users in each city?\n",
    "\n",
    "- When is the highest demand for cab services?"
   ]
  },
  {
   "cell_type": "markdown",
   "id": "f110ae1a",
   "metadata": {},
   "source": [
    "## Exploratory Data Analysis (EDA)"
   ]
  },
  {
   "cell_type": "markdown",
   "id": "51043688",
   "metadata": {},
   "source": [
    "#### Import libraries"
   ]
  },
  {
   "cell_type": "code",
   "execution_count": 1,
   "id": "a8cecf07",
   "metadata": {},
   "outputs": [],
   "source": [
    "import pandas as pd\n",
    "from datetime import datetime, timedelta\n",
    "import matplotlib.pyplot as plt\n",
    "import seaborn as sns"
   ]
  },
  {
   "cell_type": "markdown",
   "id": "27c34d49",
   "metadata": {},
   "source": [
    "#### Import and read datasets"
   ]
  },
  {
   "cell_type": "code",
   "execution_count": 2,
   "id": "5e827dc8",
   "metadata": {},
   "outputs": [],
   "source": [
    "cab_data = pd.read_csv(\"Cab_Data.csv\")\n",
    "city_data = pd.read_csv(\"City.csv\")\n",
    "customer_data = pd.read_csv(\"Customer_ID.csv\")\n",
    "transaction_data = pd.read_csv(\"Transaction_ID.csv\")"
   ]
  },
  {
   "cell_type": "code",
   "execution_count": 3,
   "id": "35a48086",
   "metadata": {},
   "outputs": [
    {
     "data": {
      "text/html": [
       "<div>\n",
       "<style scoped>\n",
       "    .dataframe tbody tr th:only-of-type {\n",
       "        vertical-align: middle;\n",
       "    }\n",
       "\n",
       "    .dataframe tbody tr th {\n",
       "        vertical-align: top;\n",
       "    }\n",
       "\n",
       "    .dataframe thead th {\n",
       "        text-align: right;\n",
       "    }\n",
       "</style>\n",
       "<table border=\"1\" class=\"dataframe\">\n",
       "  <thead>\n",
       "    <tr style=\"text-align: right;\">\n",
       "      <th></th>\n",
       "      <th>Transaction ID</th>\n",
       "      <th>Date of Travel</th>\n",
       "      <th>Company</th>\n",
       "      <th>City</th>\n",
       "      <th>KM Travelled</th>\n",
       "      <th>Price Charged</th>\n",
       "      <th>Cost of Trip</th>\n",
       "    </tr>\n",
       "  </thead>\n",
       "  <tbody>\n",
       "    <tr>\n",
       "      <th>0</th>\n",
       "      <td>10000011</td>\n",
       "      <td>42377</td>\n",
       "      <td>Pink Cab</td>\n",
       "      <td>ATLANTA GA</td>\n",
       "      <td>30.45</td>\n",
       "      <td>370.95</td>\n",
       "      <td>313.6350</td>\n",
       "    </tr>\n",
       "    <tr>\n",
       "      <th>1</th>\n",
       "      <td>10000012</td>\n",
       "      <td>42375</td>\n",
       "      <td>Pink Cab</td>\n",
       "      <td>ATLANTA GA</td>\n",
       "      <td>28.62</td>\n",
       "      <td>358.52</td>\n",
       "      <td>334.8540</td>\n",
       "    </tr>\n",
       "    <tr>\n",
       "      <th>2</th>\n",
       "      <td>10000013</td>\n",
       "      <td>42371</td>\n",
       "      <td>Pink Cab</td>\n",
       "      <td>ATLANTA GA</td>\n",
       "      <td>9.04</td>\n",
       "      <td>125.20</td>\n",
       "      <td>97.6320</td>\n",
       "    </tr>\n",
       "    <tr>\n",
       "      <th>3</th>\n",
       "      <td>10000014</td>\n",
       "      <td>42376</td>\n",
       "      <td>Pink Cab</td>\n",
       "      <td>ATLANTA GA</td>\n",
       "      <td>33.17</td>\n",
       "      <td>377.40</td>\n",
       "      <td>351.6020</td>\n",
       "    </tr>\n",
       "    <tr>\n",
       "      <th>4</th>\n",
       "      <td>10000015</td>\n",
       "      <td>42372</td>\n",
       "      <td>Pink Cab</td>\n",
       "      <td>ATLANTA GA</td>\n",
       "      <td>8.73</td>\n",
       "      <td>114.62</td>\n",
       "      <td>97.7760</td>\n",
       "    </tr>\n",
       "    <tr>\n",
       "      <th>...</th>\n",
       "      <td>...</td>\n",
       "      <td>...</td>\n",
       "      <td>...</td>\n",
       "      <td>...</td>\n",
       "      <td>...</td>\n",
       "      <td>...</td>\n",
       "      <td>...</td>\n",
       "    </tr>\n",
       "    <tr>\n",
       "      <th>359387</th>\n",
       "      <td>10440101</td>\n",
       "      <td>43108</td>\n",
       "      <td>Yellow Cab</td>\n",
       "      <td>WASHINGTON DC</td>\n",
       "      <td>4.80</td>\n",
       "      <td>69.24</td>\n",
       "      <td>63.3600</td>\n",
       "    </tr>\n",
       "    <tr>\n",
       "      <th>359388</th>\n",
       "      <td>10440104</td>\n",
       "      <td>43104</td>\n",
       "      <td>Yellow Cab</td>\n",
       "      <td>WASHINGTON DC</td>\n",
       "      <td>8.40</td>\n",
       "      <td>113.75</td>\n",
       "      <td>106.8480</td>\n",
       "    </tr>\n",
       "    <tr>\n",
       "      <th>359389</th>\n",
       "      <td>10440105</td>\n",
       "      <td>43105</td>\n",
       "      <td>Yellow Cab</td>\n",
       "      <td>WASHINGTON DC</td>\n",
       "      <td>27.75</td>\n",
       "      <td>437.07</td>\n",
       "      <td>349.6500</td>\n",
       "    </tr>\n",
       "    <tr>\n",
       "      <th>359390</th>\n",
       "      <td>10440106</td>\n",
       "      <td>43105</td>\n",
       "      <td>Yellow Cab</td>\n",
       "      <td>WASHINGTON DC</td>\n",
       "      <td>8.80</td>\n",
       "      <td>146.19</td>\n",
       "      <td>114.0480</td>\n",
       "    </tr>\n",
       "    <tr>\n",
       "      <th>359391</th>\n",
       "      <td>10440107</td>\n",
       "      <td>43102</td>\n",
       "      <td>Yellow Cab</td>\n",
       "      <td>WASHINGTON DC</td>\n",
       "      <td>12.76</td>\n",
       "      <td>191.58</td>\n",
       "      <td>177.6192</td>\n",
       "    </tr>\n",
       "  </tbody>\n",
       "</table>\n",
       "<p>359392 rows × 7 columns</p>\n",
       "</div>"
      ],
      "text/plain": [
       "        Transaction ID  Date of Travel     Company           City  \\\n",
       "0             10000011           42377    Pink Cab     ATLANTA GA   \n",
       "1             10000012           42375    Pink Cab     ATLANTA GA   \n",
       "2             10000013           42371    Pink Cab     ATLANTA GA   \n",
       "3             10000014           42376    Pink Cab     ATLANTA GA   \n",
       "4             10000015           42372    Pink Cab     ATLANTA GA   \n",
       "...                ...             ...         ...            ...   \n",
       "359387        10440101           43108  Yellow Cab  WASHINGTON DC   \n",
       "359388        10440104           43104  Yellow Cab  WASHINGTON DC   \n",
       "359389        10440105           43105  Yellow Cab  WASHINGTON DC   \n",
       "359390        10440106           43105  Yellow Cab  WASHINGTON DC   \n",
       "359391        10440107           43102  Yellow Cab  WASHINGTON DC   \n",
       "\n",
       "        KM Travelled  Price Charged  Cost of Trip  \n",
       "0              30.45         370.95      313.6350  \n",
       "1              28.62         358.52      334.8540  \n",
       "2               9.04         125.20       97.6320  \n",
       "3              33.17         377.40      351.6020  \n",
       "4               8.73         114.62       97.7760  \n",
       "...              ...            ...           ...  \n",
       "359387          4.80          69.24       63.3600  \n",
       "359388          8.40         113.75      106.8480  \n",
       "359389         27.75         437.07      349.6500  \n",
       "359390          8.80         146.19      114.0480  \n",
       "359391         12.76         191.58      177.6192  \n",
       "\n",
       "[359392 rows x 7 columns]"
      ]
     },
     "execution_count": 3,
     "metadata": {},
     "output_type": "execute_result"
    }
   ],
   "source": [
    "cab_data"
   ]
  },
  {
   "cell_type": "code",
   "execution_count": 4,
   "id": "06e153ec",
   "metadata": {},
   "outputs": [
    {
     "data": {
      "text/html": [
       "<div>\n",
       "<style scoped>\n",
       "    .dataframe tbody tr th:only-of-type {\n",
       "        vertical-align: middle;\n",
       "    }\n",
       "\n",
       "    .dataframe tbody tr th {\n",
       "        vertical-align: top;\n",
       "    }\n",
       "\n",
       "    .dataframe thead th {\n",
       "        text-align: right;\n",
       "    }\n",
       "</style>\n",
       "<table border=\"1\" class=\"dataframe\">\n",
       "  <thead>\n",
       "    <tr style=\"text-align: right;\">\n",
       "      <th></th>\n",
       "      <th>City</th>\n",
       "      <th>Population</th>\n",
       "      <th>Users</th>\n",
       "    </tr>\n",
       "  </thead>\n",
       "  <tbody>\n",
       "    <tr>\n",
       "      <th>0</th>\n",
       "      <td>NEW YORK NY</td>\n",
       "      <td>8,405,837</td>\n",
       "      <td>302,149</td>\n",
       "    </tr>\n",
       "    <tr>\n",
       "      <th>1</th>\n",
       "      <td>CHICAGO IL</td>\n",
       "      <td>1,955,130</td>\n",
       "      <td>164,468</td>\n",
       "    </tr>\n",
       "    <tr>\n",
       "      <th>2</th>\n",
       "      <td>LOS ANGELES CA</td>\n",
       "      <td>1,595,037</td>\n",
       "      <td>144,132</td>\n",
       "    </tr>\n",
       "    <tr>\n",
       "      <th>3</th>\n",
       "      <td>MIAMI FL</td>\n",
       "      <td>1,339,155</td>\n",
       "      <td>17,675</td>\n",
       "    </tr>\n",
       "    <tr>\n",
       "      <th>4</th>\n",
       "      <td>SILICON VALLEY</td>\n",
       "      <td>1,177,609</td>\n",
       "      <td>27,247</td>\n",
       "    </tr>\n",
       "    <tr>\n",
       "      <th>5</th>\n",
       "      <td>ORANGE COUNTY</td>\n",
       "      <td>1,030,185</td>\n",
       "      <td>12,994</td>\n",
       "    </tr>\n",
       "    <tr>\n",
       "      <th>6</th>\n",
       "      <td>SAN DIEGO CA</td>\n",
       "      <td>959,307</td>\n",
       "      <td>69,995</td>\n",
       "    </tr>\n",
       "    <tr>\n",
       "      <th>7</th>\n",
       "      <td>PHOENIX AZ</td>\n",
       "      <td>943,999</td>\n",
       "      <td>6,133</td>\n",
       "    </tr>\n",
       "    <tr>\n",
       "      <th>8</th>\n",
       "      <td>DALLAS TX</td>\n",
       "      <td>942,908</td>\n",
       "      <td>22,157</td>\n",
       "    </tr>\n",
       "    <tr>\n",
       "      <th>9</th>\n",
       "      <td>ATLANTA GA</td>\n",
       "      <td>814,885</td>\n",
       "      <td>24,701</td>\n",
       "    </tr>\n",
       "    <tr>\n",
       "      <th>10</th>\n",
       "      <td>DENVER CO</td>\n",
       "      <td>754,233</td>\n",
       "      <td>12,421</td>\n",
       "    </tr>\n",
       "    <tr>\n",
       "      <th>11</th>\n",
       "      <td>AUSTIN TX</td>\n",
       "      <td>698,371</td>\n",
       "      <td>14,978</td>\n",
       "    </tr>\n",
       "    <tr>\n",
       "      <th>12</th>\n",
       "      <td>SEATTLE WA</td>\n",
       "      <td>671,238</td>\n",
       "      <td>25,063</td>\n",
       "    </tr>\n",
       "    <tr>\n",
       "      <th>13</th>\n",
       "      <td>TUCSON AZ</td>\n",
       "      <td>631,442</td>\n",
       "      <td>5,712</td>\n",
       "    </tr>\n",
       "    <tr>\n",
       "      <th>14</th>\n",
       "      <td>SAN FRANCISCO CA</td>\n",
       "      <td>629,591</td>\n",
       "      <td>213,609</td>\n",
       "    </tr>\n",
       "    <tr>\n",
       "      <th>15</th>\n",
       "      <td>SACRAMENTO CA</td>\n",
       "      <td>545,776</td>\n",
       "      <td>7,044</td>\n",
       "    </tr>\n",
       "    <tr>\n",
       "      <th>16</th>\n",
       "      <td>PITTSBURGH PA</td>\n",
       "      <td>542,085</td>\n",
       "      <td>3,643</td>\n",
       "    </tr>\n",
       "    <tr>\n",
       "      <th>17</th>\n",
       "      <td>WASHINGTON DC</td>\n",
       "      <td>418,859</td>\n",
       "      <td>127,001</td>\n",
       "    </tr>\n",
       "    <tr>\n",
       "      <th>18</th>\n",
       "      <td>NASHVILLE TN</td>\n",
       "      <td>327,225</td>\n",
       "      <td>9,270</td>\n",
       "    </tr>\n",
       "    <tr>\n",
       "      <th>19</th>\n",
       "      <td>BOSTON MA</td>\n",
       "      <td>248,968</td>\n",
       "      <td>80,021</td>\n",
       "    </tr>\n",
       "  </tbody>\n",
       "</table>\n",
       "</div>"
      ],
      "text/plain": [
       "                City   Population      Users\n",
       "0        NEW YORK NY   8,405,837    302,149 \n",
       "1         CHICAGO IL   1,955,130    164,468 \n",
       "2     LOS ANGELES CA   1,595,037    144,132 \n",
       "3           MIAMI FL   1,339,155     17,675 \n",
       "4     SILICON VALLEY   1,177,609     27,247 \n",
       "5      ORANGE COUNTY   1,030,185     12,994 \n",
       "6       SAN DIEGO CA     959,307     69,995 \n",
       "7         PHOENIX AZ     943,999      6,133 \n",
       "8          DALLAS TX     942,908     22,157 \n",
       "9         ATLANTA GA     814,885     24,701 \n",
       "10         DENVER CO     754,233     12,421 \n",
       "11         AUSTIN TX     698,371     14,978 \n",
       "12        SEATTLE WA     671,238     25,063 \n",
       "13         TUCSON AZ     631,442      5,712 \n",
       "14  SAN FRANCISCO CA     629,591    213,609 \n",
       "15     SACRAMENTO CA     545,776      7,044 \n",
       "16     PITTSBURGH PA     542,085      3,643 \n",
       "17     WASHINGTON DC     418,859    127,001 \n",
       "18      NASHVILLE TN     327,225      9,270 \n",
       "19         BOSTON MA     248,968     80,021 "
      ]
     },
     "execution_count": 4,
     "metadata": {},
     "output_type": "execute_result"
    }
   ],
   "source": [
    "city_data"
   ]
  },
  {
   "cell_type": "code",
   "execution_count": 5,
   "id": "00daff29",
   "metadata": {},
   "outputs": [
    {
     "data": {
      "text/html": [
       "<div>\n",
       "<style scoped>\n",
       "    .dataframe tbody tr th:only-of-type {\n",
       "        vertical-align: middle;\n",
       "    }\n",
       "\n",
       "    .dataframe tbody tr th {\n",
       "        vertical-align: top;\n",
       "    }\n",
       "\n",
       "    .dataframe thead th {\n",
       "        text-align: right;\n",
       "    }\n",
       "</style>\n",
       "<table border=\"1\" class=\"dataframe\">\n",
       "  <thead>\n",
       "    <tr style=\"text-align: right;\">\n",
       "      <th></th>\n",
       "      <th>Customer ID</th>\n",
       "      <th>Gender</th>\n",
       "      <th>Age</th>\n",
       "      <th>Income (USD/Month)</th>\n",
       "    </tr>\n",
       "  </thead>\n",
       "  <tbody>\n",
       "    <tr>\n",
       "      <th>0</th>\n",
       "      <td>29290</td>\n",
       "      <td>Male</td>\n",
       "      <td>28</td>\n",
       "      <td>10813</td>\n",
       "    </tr>\n",
       "    <tr>\n",
       "      <th>1</th>\n",
       "      <td>27703</td>\n",
       "      <td>Male</td>\n",
       "      <td>27</td>\n",
       "      <td>9237</td>\n",
       "    </tr>\n",
       "    <tr>\n",
       "      <th>2</th>\n",
       "      <td>28712</td>\n",
       "      <td>Male</td>\n",
       "      <td>53</td>\n",
       "      <td>11242</td>\n",
       "    </tr>\n",
       "    <tr>\n",
       "      <th>3</th>\n",
       "      <td>28020</td>\n",
       "      <td>Male</td>\n",
       "      <td>23</td>\n",
       "      <td>23327</td>\n",
       "    </tr>\n",
       "    <tr>\n",
       "      <th>4</th>\n",
       "      <td>27182</td>\n",
       "      <td>Male</td>\n",
       "      <td>33</td>\n",
       "      <td>8536</td>\n",
       "    </tr>\n",
       "    <tr>\n",
       "      <th>...</th>\n",
       "      <td>...</td>\n",
       "      <td>...</td>\n",
       "      <td>...</td>\n",
       "      <td>...</td>\n",
       "    </tr>\n",
       "    <tr>\n",
       "      <th>49166</th>\n",
       "      <td>12490</td>\n",
       "      <td>Male</td>\n",
       "      <td>33</td>\n",
       "      <td>18713</td>\n",
       "    </tr>\n",
       "    <tr>\n",
       "      <th>49167</th>\n",
       "      <td>14971</td>\n",
       "      <td>Male</td>\n",
       "      <td>30</td>\n",
       "      <td>15346</td>\n",
       "    </tr>\n",
       "    <tr>\n",
       "      <th>49168</th>\n",
       "      <td>41414</td>\n",
       "      <td>Male</td>\n",
       "      <td>38</td>\n",
       "      <td>3960</td>\n",
       "    </tr>\n",
       "    <tr>\n",
       "      <th>49169</th>\n",
       "      <td>41677</td>\n",
       "      <td>Male</td>\n",
       "      <td>23</td>\n",
       "      <td>19454</td>\n",
       "    </tr>\n",
       "    <tr>\n",
       "      <th>49170</th>\n",
       "      <td>39761</td>\n",
       "      <td>Female</td>\n",
       "      <td>32</td>\n",
       "      <td>10128</td>\n",
       "    </tr>\n",
       "  </tbody>\n",
       "</table>\n",
       "<p>49171 rows × 4 columns</p>\n",
       "</div>"
      ],
      "text/plain": [
       "       Customer ID  Gender  Age  Income (USD/Month)\n",
       "0            29290    Male   28               10813\n",
       "1            27703    Male   27                9237\n",
       "2            28712    Male   53               11242\n",
       "3            28020    Male   23               23327\n",
       "4            27182    Male   33                8536\n",
       "...            ...     ...  ...                 ...\n",
       "49166        12490    Male   33               18713\n",
       "49167        14971    Male   30               15346\n",
       "49168        41414    Male   38                3960\n",
       "49169        41677    Male   23               19454\n",
       "49170        39761  Female   32               10128\n",
       "\n",
       "[49171 rows x 4 columns]"
      ]
     },
     "execution_count": 5,
     "metadata": {},
     "output_type": "execute_result"
    }
   ],
   "source": [
    "customer_data"
   ]
  },
  {
   "cell_type": "code",
   "execution_count": 6,
   "id": "d19455c7",
   "metadata": {},
   "outputs": [
    {
     "data": {
      "text/html": [
       "<div>\n",
       "<style scoped>\n",
       "    .dataframe tbody tr th:only-of-type {\n",
       "        vertical-align: middle;\n",
       "    }\n",
       "\n",
       "    .dataframe tbody tr th {\n",
       "        vertical-align: top;\n",
       "    }\n",
       "\n",
       "    .dataframe thead th {\n",
       "        text-align: right;\n",
       "    }\n",
       "</style>\n",
       "<table border=\"1\" class=\"dataframe\">\n",
       "  <thead>\n",
       "    <tr style=\"text-align: right;\">\n",
       "      <th></th>\n",
       "      <th>Transaction ID</th>\n",
       "      <th>Customer ID</th>\n",
       "      <th>Payment_Mode</th>\n",
       "    </tr>\n",
       "  </thead>\n",
       "  <tbody>\n",
       "    <tr>\n",
       "      <th>0</th>\n",
       "      <td>10000011</td>\n",
       "      <td>29290</td>\n",
       "      <td>Card</td>\n",
       "    </tr>\n",
       "    <tr>\n",
       "      <th>1</th>\n",
       "      <td>10000012</td>\n",
       "      <td>27703</td>\n",
       "      <td>Card</td>\n",
       "    </tr>\n",
       "    <tr>\n",
       "      <th>2</th>\n",
       "      <td>10000013</td>\n",
       "      <td>28712</td>\n",
       "      <td>Cash</td>\n",
       "    </tr>\n",
       "    <tr>\n",
       "      <th>3</th>\n",
       "      <td>10000014</td>\n",
       "      <td>28020</td>\n",
       "      <td>Cash</td>\n",
       "    </tr>\n",
       "    <tr>\n",
       "      <th>4</th>\n",
       "      <td>10000015</td>\n",
       "      <td>27182</td>\n",
       "      <td>Card</td>\n",
       "    </tr>\n",
       "    <tr>\n",
       "      <th>...</th>\n",
       "      <td>...</td>\n",
       "      <td>...</td>\n",
       "      <td>...</td>\n",
       "    </tr>\n",
       "    <tr>\n",
       "      <th>440093</th>\n",
       "      <td>10440104</td>\n",
       "      <td>53286</td>\n",
       "      <td>Cash</td>\n",
       "    </tr>\n",
       "    <tr>\n",
       "      <th>440094</th>\n",
       "      <td>10440105</td>\n",
       "      <td>52265</td>\n",
       "      <td>Cash</td>\n",
       "    </tr>\n",
       "    <tr>\n",
       "      <th>440095</th>\n",
       "      <td>10440106</td>\n",
       "      <td>52175</td>\n",
       "      <td>Card</td>\n",
       "    </tr>\n",
       "    <tr>\n",
       "      <th>440096</th>\n",
       "      <td>10440107</td>\n",
       "      <td>52917</td>\n",
       "      <td>Card</td>\n",
       "    </tr>\n",
       "    <tr>\n",
       "      <th>440097</th>\n",
       "      <td>10440108</td>\n",
       "      <td>51587</td>\n",
       "      <td>Card</td>\n",
       "    </tr>\n",
       "  </tbody>\n",
       "</table>\n",
       "<p>440098 rows × 3 columns</p>\n",
       "</div>"
      ],
      "text/plain": [
       "        Transaction ID  Customer ID Payment_Mode\n",
       "0             10000011        29290         Card\n",
       "1             10000012        27703         Card\n",
       "2             10000013        28712         Cash\n",
       "3             10000014        28020         Cash\n",
       "4             10000015        27182         Card\n",
       "...                ...          ...          ...\n",
       "440093        10440104        53286         Cash\n",
       "440094        10440105        52265         Cash\n",
       "440095        10440106        52175         Card\n",
       "440096        10440107        52917         Card\n",
       "440097        10440108        51587         Card\n",
       "\n",
       "[440098 rows x 3 columns]"
      ]
     },
     "execution_count": 6,
     "metadata": {},
     "output_type": "execute_result"
    }
   ],
   "source": [
    "transaction_data"
   ]
  },
  {
   "cell_type": "markdown",
   "id": "0819869e",
   "metadata": {},
   "source": [
    "#### Check for missing values"
   ]
  },
  {
   "cell_type": "code",
   "execution_count": 7,
   "id": "e34c5050",
   "metadata": {},
   "outputs": [
    {
     "data": {
      "text/plain": [
       "Transaction ID    0\n",
       "Date of Travel    0\n",
       "Company           0\n",
       "City              0\n",
       "KM Travelled      0\n",
       "Price Charged     0\n",
       "Cost of Trip      0\n",
       "dtype: int64"
      ]
     },
     "execution_count": 7,
     "metadata": {},
     "output_type": "execute_result"
    }
   ],
   "source": [
    "cab_data.isnull().sum().sort_values(ascending = False)"
   ]
  },
  {
   "cell_type": "code",
   "execution_count": 8,
   "id": "afdd7c41",
   "metadata": {},
   "outputs": [
    {
     "data": {
      "text/plain": [
       "City          0\n",
       "Population    0\n",
       "Users         0\n",
       "dtype: int64"
      ]
     },
     "execution_count": 8,
     "metadata": {},
     "output_type": "execute_result"
    }
   ],
   "source": [
    "city_data.isnull().sum().sort_values(ascending = False)"
   ]
  },
  {
   "cell_type": "code",
   "execution_count": 9,
   "id": "134f1b38",
   "metadata": {},
   "outputs": [
    {
     "data": {
      "text/plain": [
       "Customer ID           0\n",
       "Gender                0\n",
       "Age                   0\n",
       "Income (USD/Month)    0\n",
       "dtype: int64"
      ]
     },
     "execution_count": 9,
     "metadata": {},
     "output_type": "execute_result"
    }
   ],
   "source": [
    "customer_data.isnull().sum().sort_values(ascending = False)"
   ]
  },
  {
   "cell_type": "code",
   "execution_count": 10,
   "id": "eaba2be5",
   "metadata": {},
   "outputs": [
    {
     "data": {
      "text/plain": [
       "Transaction ID    0\n",
       "Customer ID       0\n",
       "Payment_Mode      0\n",
       "dtype: int64"
      ]
     },
     "execution_count": 10,
     "metadata": {},
     "output_type": "execute_result"
    }
   ],
   "source": [
    "transaction_data.isnull().sum().sort_values(ascending = False)"
   ]
  },
  {
   "cell_type": "markdown",
   "id": "99f165df",
   "metadata": {},
   "source": [
    "#### Data types"
   ]
  },
  {
   "cell_type": "code",
   "execution_count": 11,
   "id": "1e53bf87",
   "metadata": {},
   "outputs": [
    {
     "data": {
      "text/plain": [
       "Transaction ID      int64\n",
       "Date of Travel      int64\n",
       "Company            object\n",
       "City               object\n",
       "KM Travelled      float64\n",
       "Price Charged     float64\n",
       "Cost of Trip      float64\n",
       "dtype: object"
      ]
     },
     "execution_count": 11,
     "metadata": {},
     "output_type": "execute_result"
    }
   ],
   "source": [
    "# data type of cab_data\n",
    "cab_data.dtypes"
   ]
  },
  {
   "cell_type": "markdown",
   "id": "05742376",
   "metadata": {},
   "source": [
    "We can see that the data type of \"Date of Travel\" column in cab_data is integer instead of datetime"
   ]
  },
  {
   "cell_type": "code",
   "execution_count": 12,
   "id": "9c8443e4",
   "metadata": {},
   "outputs": [
    {
     "data": {
      "text/plain": [
       "City          object\n",
       "Population    object\n",
       "Users         object\n",
       "dtype: object"
      ]
     },
     "execution_count": 12,
     "metadata": {},
     "output_type": "execute_result"
    }
   ],
   "source": [
    "# data type of city_data\n",
    "city_data.dtypes"
   ]
  },
  {
   "cell_type": "markdown",
   "id": "93109943",
   "metadata": {},
   "source": [
    "We can see that the data type of \"Population\" and \"Users\" columns in city_data are both object instead of integer"
   ]
  },
  {
   "cell_type": "code",
   "execution_count": 13,
   "id": "a07c3b31",
   "metadata": {},
   "outputs": [
    {
     "data": {
      "text/plain": [
       "Customer ID            int64\n",
       "Gender                object\n",
       "Age                    int64\n",
       "Income (USD/Month)     int64\n",
       "dtype: object"
      ]
     },
     "execution_count": 13,
     "metadata": {},
     "output_type": "execute_result"
    }
   ],
   "source": [
    "# data type of customer_data\n",
    "customer_data.dtypes"
   ]
  },
  {
   "cell_type": "code",
   "execution_count": 14,
   "id": "a793e502",
   "metadata": {},
   "outputs": [
    {
     "data": {
      "text/plain": [
       "Transaction ID     int64\n",
       "Customer ID        int64\n",
       "Payment_Mode      object\n",
       "dtype: object"
      ]
     },
     "execution_count": 14,
     "metadata": {},
     "output_type": "execute_result"
    }
   ],
   "source": [
    "# data type of transaction_data\n",
    "transaction_data.dtypes"
   ]
  },
  {
   "cell_type": "code",
   "execution_count": 15,
   "id": "7f8ce69a",
   "metadata": {},
   "outputs": [
    {
     "data": {
      "text/plain": [
       "Transaction ID    359392\n",
       "Date of Travel      1095\n",
       "Company                2\n",
       "City                  19\n",
       "KM Travelled         874\n",
       "Price Charged      99176\n",
       "Cost of Trip       16291\n",
       "dtype: int64"
      ]
     },
     "execution_count": 15,
     "metadata": {},
     "output_type": "execute_result"
    }
   ],
   "source": [
    "# number of unique values in each column of cab_data\n",
    "cab_data.nunique()"
   ]
  },
  {
   "cell_type": "code",
   "execution_count": 16,
   "id": "8b3e1219",
   "metadata": {},
   "outputs": [
    {
     "data": {
      "text/plain": [
       "City          20\n",
       "Population    20\n",
       "Users         20\n",
       "dtype: int64"
      ]
     },
     "execution_count": 16,
     "metadata": {},
     "output_type": "execute_result"
    }
   ],
   "source": [
    "# number of unique values in each column of city_data\n",
    "city_data.nunique()"
   ]
  },
  {
   "cell_type": "code",
   "execution_count": 17,
   "id": "aed9f538",
   "metadata": {},
   "outputs": [
    {
     "data": {
      "text/plain": [
       "Customer ID           49171\n",
       "Gender                    2\n",
       "Age                      48\n",
       "Income (USD/Month)    23341\n",
       "dtype: int64"
      ]
     },
     "execution_count": 17,
     "metadata": {},
     "output_type": "execute_result"
    }
   ],
   "source": [
    "# number of unique values in each column of customer_data\n",
    "customer_data.nunique()"
   ]
  },
  {
   "cell_type": "code",
   "execution_count": 18,
   "id": "1a5cf981",
   "metadata": {},
   "outputs": [
    {
     "data": {
      "text/plain": [
       "Transaction ID    440098\n",
       "Customer ID        49171\n",
       "Payment_Mode           2\n",
       "dtype: int64"
      ]
     },
     "execution_count": 18,
     "metadata": {},
     "output_type": "execute_result"
    }
   ],
   "source": [
    "# number of unique values in each column of transaction_data\n",
    "transaction_data.nunique()"
   ]
  },
  {
   "cell_type": "markdown",
   "id": "bb11e1ea",
   "metadata": {},
   "source": [
    "#### Data manipulation"
   ]
  },
  {
   "cell_type": "code",
   "execution_count": 19,
   "id": "712e4366",
   "metadata": {},
   "outputs": [
    {
     "data": {
      "text/html": [
       "<div>\n",
       "<style scoped>\n",
       "    .dataframe tbody tr th:only-of-type {\n",
       "        vertical-align: middle;\n",
       "    }\n",
       "\n",
       "    .dataframe tbody tr th {\n",
       "        vertical-align: top;\n",
       "    }\n",
       "\n",
       "    .dataframe thead th {\n",
       "        text-align: right;\n",
       "    }\n",
       "</style>\n",
       "<table border=\"1\" class=\"dataframe\">\n",
       "  <thead>\n",
       "    <tr style=\"text-align: right;\">\n",
       "      <th></th>\n",
       "      <th>Transaction ID</th>\n",
       "      <th>Date of Travel</th>\n",
       "      <th>Company</th>\n",
       "      <th>City</th>\n",
       "      <th>KM Travelled</th>\n",
       "      <th>Price Charged</th>\n",
       "      <th>Cost of Trip</th>\n",
       "    </tr>\n",
       "  </thead>\n",
       "  <tbody>\n",
       "    <tr>\n",
       "      <th>0</th>\n",
       "      <td>10000011</td>\n",
       "      <td>2016-01-08</td>\n",
       "      <td>Pink Cab</td>\n",
       "      <td>ATLANTA GA</td>\n",
       "      <td>30.45</td>\n",
       "      <td>370.95</td>\n",
       "      <td>313.635</td>\n",
       "    </tr>\n",
       "    <tr>\n",
       "      <th>1</th>\n",
       "      <td>10000012</td>\n",
       "      <td>2016-01-06</td>\n",
       "      <td>Pink Cab</td>\n",
       "      <td>ATLANTA GA</td>\n",
       "      <td>28.62</td>\n",
       "      <td>358.52</td>\n",
       "      <td>334.854</td>\n",
       "    </tr>\n",
       "    <tr>\n",
       "      <th>2</th>\n",
       "      <td>10000013</td>\n",
       "      <td>2016-01-02</td>\n",
       "      <td>Pink Cab</td>\n",
       "      <td>ATLANTA GA</td>\n",
       "      <td>9.04</td>\n",
       "      <td>125.20</td>\n",
       "      <td>97.632</td>\n",
       "    </tr>\n",
       "    <tr>\n",
       "      <th>3</th>\n",
       "      <td>10000014</td>\n",
       "      <td>2016-01-07</td>\n",
       "      <td>Pink Cab</td>\n",
       "      <td>ATLANTA GA</td>\n",
       "      <td>33.17</td>\n",
       "      <td>377.40</td>\n",
       "      <td>351.602</td>\n",
       "    </tr>\n",
       "    <tr>\n",
       "      <th>4</th>\n",
       "      <td>10000015</td>\n",
       "      <td>2016-01-03</td>\n",
       "      <td>Pink Cab</td>\n",
       "      <td>ATLANTA GA</td>\n",
       "      <td>8.73</td>\n",
       "      <td>114.62</td>\n",
       "      <td>97.776</td>\n",
       "    </tr>\n",
       "  </tbody>\n",
       "</table>\n",
       "</div>"
      ],
      "text/plain": [
       "   Transaction ID Date of Travel   Company        City  KM Travelled  \\\n",
       "0        10000011     2016-01-08  Pink Cab  ATLANTA GA         30.45   \n",
       "1        10000012     2016-01-06  Pink Cab  ATLANTA GA         28.62   \n",
       "2        10000013     2016-01-02  Pink Cab  ATLANTA GA          9.04   \n",
       "3        10000014     2016-01-07  Pink Cab  ATLANTA GA         33.17   \n",
       "4        10000015     2016-01-03  Pink Cab  ATLANTA GA          8.73   \n",
       "\n",
       "   Price Charged  Cost of Trip  \n",
       "0         370.95       313.635  \n",
       "1         358.52       334.854  \n",
       "2         125.20        97.632  \n",
       "3         377.40       351.602  \n",
       "4         114.62        97.776  "
      ]
     },
     "execution_count": 19,
     "metadata": {},
     "output_type": "execute_result"
    }
   ],
   "source": [
    "# convert 'Date of Travel' column in cab_data to datetime\n",
    "def datefromxls(x): return datetime.fromordinal(\n",
    "    datetime(1900, 1, 1).toordinal() + x - 2)\n",
    "\n",
    "\n",
    "cab_data['Date of Travel'] = cab_data['Date of Travel'].apply(datefromxls)\n",
    "cab_data.head()"
   ]
  },
  {
   "cell_type": "code",
   "execution_count": 20,
   "id": "bfc1d049",
   "metadata": {},
   "outputs": [
    {
     "name": "stdout",
     "output_type": "stream",
     "text": [
      "<class 'pandas.core.frame.DataFrame'>\n",
      "RangeIndex: 20 entries, 0 to 19\n",
      "Data columns (total 3 columns):\n",
      " #   Column      Non-Null Count  Dtype \n",
      "---  ------      --------------  ----- \n",
      " 0   City        20 non-null     object\n",
      " 1   Population  20 non-null     int64 \n",
      " 2   Users       20 non-null     int64 \n",
      "dtypes: int64(2), object(1)\n",
      "memory usage: 608.0+ bytes\n"
     ]
    }
   ],
   "source": [
    "# convert data type of 'Population' and 'Users' columns in city_data to integer\n",
    "city_data['Population'] = city_data['Population'].str.replace(\n",
    "    ',', '').astype('int64')\n",
    "city_data['Users'] = city_data['Users'].str.replace(',', '').astype('int64')\n",
    "city_data.info()"
   ]
  },
  {
   "cell_type": "code",
   "execution_count": 21,
   "id": "2691f165",
   "metadata": {},
   "outputs": [
    {
     "data": {
      "text/html": [
       "<div>\n",
       "<style scoped>\n",
       "    .dataframe tbody tr th:only-of-type {\n",
       "        vertical-align: middle;\n",
       "    }\n",
       "\n",
       "    .dataframe tbody tr th {\n",
       "        vertical-align: top;\n",
       "    }\n",
       "\n",
       "    .dataframe thead th {\n",
       "        text-align: right;\n",
       "    }\n",
       "</style>\n",
       "<table border=\"1\" class=\"dataframe\">\n",
       "  <thead>\n",
       "    <tr style=\"text-align: right;\">\n",
       "      <th></th>\n",
       "      <th>Transaction ID</th>\n",
       "      <th>Customer ID</th>\n",
       "      <th>Payment_Mode</th>\n",
       "      <th>Gender</th>\n",
       "      <th>Age</th>\n",
       "      <th>Income (USD/Month)</th>\n",
       "      <th>Date of Travel</th>\n",
       "      <th>Company</th>\n",
       "      <th>City</th>\n",
       "      <th>KM Travelled</th>\n",
       "      <th>Price Charged</th>\n",
       "      <th>Cost of Trip</th>\n",
       "      <th>Population</th>\n",
       "      <th>Users</th>\n",
       "    </tr>\n",
       "  </thead>\n",
       "  <tbody>\n",
       "    <tr>\n",
       "      <th>0</th>\n",
       "      <td>10000011</td>\n",
       "      <td>29290</td>\n",
       "      <td>Card</td>\n",
       "      <td>Male</td>\n",
       "      <td>28</td>\n",
       "      <td>10813</td>\n",
       "      <td>2016-01-08</td>\n",
       "      <td>Pink Cab</td>\n",
       "      <td>ATLANTA GA</td>\n",
       "      <td>30.45</td>\n",
       "      <td>370.95</td>\n",
       "      <td>313.6350</td>\n",
       "      <td>814885</td>\n",
       "      <td>24701</td>\n",
       "    </tr>\n",
       "    <tr>\n",
       "      <th>1</th>\n",
       "      <td>10351127</td>\n",
       "      <td>29290</td>\n",
       "      <td>Cash</td>\n",
       "      <td>Male</td>\n",
       "      <td>28</td>\n",
       "      <td>10813</td>\n",
       "      <td>2018-07-21</td>\n",
       "      <td>Yellow Cab</td>\n",
       "      <td>ATLANTA GA</td>\n",
       "      <td>26.19</td>\n",
       "      <td>598.70</td>\n",
       "      <td>317.4228</td>\n",
       "      <td>814885</td>\n",
       "      <td>24701</td>\n",
       "    </tr>\n",
       "    <tr>\n",
       "      <th>2</th>\n",
       "      <td>10412921</td>\n",
       "      <td>29290</td>\n",
       "      <td>Card</td>\n",
       "      <td>Male</td>\n",
       "      <td>28</td>\n",
       "      <td>10813</td>\n",
       "      <td>2018-11-23</td>\n",
       "      <td>Yellow Cab</td>\n",
       "      <td>ATLANTA GA</td>\n",
       "      <td>42.55</td>\n",
       "      <td>792.05</td>\n",
       "      <td>597.4020</td>\n",
       "      <td>814885</td>\n",
       "      <td>24701</td>\n",
       "    </tr>\n",
       "    <tr>\n",
       "      <th>3</th>\n",
       "      <td>10000012</td>\n",
       "      <td>27703</td>\n",
       "      <td>Card</td>\n",
       "      <td>Male</td>\n",
       "      <td>27</td>\n",
       "      <td>9237</td>\n",
       "      <td>2016-01-06</td>\n",
       "      <td>Pink Cab</td>\n",
       "      <td>ATLANTA GA</td>\n",
       "      <td>28.62</td>\n",
       "      <td>358.52</td>\n",
       "      <td>334.8540</td>\n",
       "      <td>814885</td>\n",
       "      <td>24701</td>\n",
       "    </tr>\n",
       "    <tr>\n",
       "      <th>4</th>\n",
       "      <td>10320494</td>\n",
       "      <td>27703</td>\n",
       "      <td>Card</td>\n",
       "      <td>Male</td>\n",
       "      <td>27</td>\n",
       "      <td>9237</td>\n",
       "      <td>2018-04-21</td>\n",
       "      <td>Yellow Cab</td>\n",
       "      <td>ATLANTA GA</td>\n",
       "      <td>36.38</td>\n",
       "      <td>721.10</td>\n",
       "      <td>467.1192</td>\n",
       "      <td>814885</td>\n",
       "      <td>24701</td>\n",
       "    </tr>\n",
       "  </tbody>\n",
       "</table>\n",
       "</div>"
      ],
      "text/plain": [
       "   Transaction ID  Customer ID Payment_Mode Gender  Age  Income (USD/Month)  \\\n",
       "0        10000011        29290         Card   Male   28               10813   \n",
       "1        10351127        29290         Cash   Male   28               10813   \n",
       "2        10412921        29290         Card   Male   28               10813   \n",
       "3        10000012        27703         Card   Male   27                9237   \n",
       "4        10320494        27703         Card   Male   27                9237   \n",
       "\n",
       "  Date of Travel     Company        City  KM Travelled  Price Charged  \\\n",
       "0     2016-01-08    Pink Cab  ATLANTA GA         30.45         370.95   \n",
       "1     2018-07-21  Yellow Cab  ATLANTA GA         26.19         598.70   \n",
       "2     2018-11-23  Yellow Cab  ATLANTA GA         42.55         792.05   \n",
       "3     2016-01-06    Pink Cab  ATLANTA GA         28.62         358.52   \n",
       "4     2018-04-21  Yellow Cab  ATLANTA GA         36.38         721.10   \n",
       "\n",
       "   Cost of Trip  Population  Users  \n",
       "0      313.6350      814885  24701  \n",
       "1      317.4228      814885  24701  \n",
       "2      597.4020      814885  24701  \n",
       "3      334.8540      814885  24701  \n",
       "4      467.1192      814885  24701  "
      ]
     },
     "execution_count": 21,
     "metadata": {},
     "output_type": "execute_result"
    }
   ],
   "source": [
    "# merge data\n",
    "final_cab_data = pd.merge(transaction_data, customer_data).merge(\n",
    "    cab_data, on='Transaction ID').merge(city_data, on='City')\n",
    "final_cab_data.head()"
   ]
  },
  {
   "cell_type": "code",
   "execution_count": 22,
   "id": "2bc3008b",
   "metadata": {},
   "outputs": [
    {
     "data": {
      "text/html": [
       "<div>\n",
       "<style scoped>\n",
       "    .dataframe tbody tr th:only-of-type {\n",
       "        vertical-align: middle;\n",
       "    }\n",
       "\n",
       "    .dataframe tbody tr th {\n",
       "        vertical-align: top;\n",
       "    }\n",
       "\n",
       "    .dataframe thead th {\n",
       "        text-align: right;\n",
       "    }\n",
       "</style>\n",
       "<table border=\"1\" class=\"dataframe\">\n",
       "  <thead>\n",
       "    <tr style=\"text-align: right;\">\n",
       "      <th></th>\n",
       "      <th>Transaction ID</th>\n",
       "      <th>Customer ID</th>\n",
       "      <th>Payment_Mode</th>\n",
       "      <th>Gender</th>\n",
       "      <th>Age</th>\n",
       "      <th>Income (USD/Month)</th>\n",
       "      <th>Date of Travel</th>\n",
       "      <th>Company</th>\n",
       "      <th>City</th>\n",
       "      <th>KM Travelled</th>\n",
       "      <th>Price Charged</th>\n",
       "      <th>Cost of Trip</th>\n",
       "      <th>Population</th>\n",
       "      <th>Users</th>\n",
       "      <th>Profit</th>\n",
       "    </tr>\n",
       "  </thead>\n",
       "  <tbody>\n",
       "    <tr>\n",
       "      <th>0</th>\n",
       "      <td>10000011</td>\n",
       "      <td>29290</td>\n",
       "      <td>Card</td>\n",
       "      <td>Male</td>\n",
       "      <td>28</td>\n",
       "      <td>10813</td>\n",
       "      <td>2016-01-08</td>\n",
       "      <td>Pink Cab</td>\n",
       "      <td>ATLANTA GA</td>\n",
       "      <td>30.45</td>\n",
       "      <td>370.95</td>\n",
       "      <td>313.6350</td>\n",
       "      <td>814885</td>\n",
       "      <td>24701</td>\n",
       "      <td>57.32</td>\n",
       "    </tr>\n",
       "    <tr>\n",
       "      <th>1</th>\n",
       "      <td>10351127</td>\n",
       "      <td>29290</td>\n",
       "      <td>Cash</td>\n",
       "      <td>Male</td>\n",
       "      <td>28</td>\n",
       "      <td>10813</td>\n",
       "      <td>2018-07-21</td>\n",
       "      <td>Yellow Cab</td>\n",
       "      <td>ATLANTA GA</td>\n",
       "      <td>26.19</td>\n",
       "      <td>598.70</td>\n",
       "      <td>317.4228</td>\n",
       "      <td>814885</td>\n",
       "      <td>24701</td>\n",
       "      <td>281.28</td>\n",
       "    </tr>\n",
       "    <tr>\n",
       "      <th>2</th>\n",
       "      <td>10412921</td>\n",
       "      <td>29290</td>\n",
       "      <td>Card</td>\n",
       "      <td>Male</td>\n",
       "      <td>28</td>\n",
       "      <td>10813</td>\n",
       "      <td>2018-11-23</td>\n",
       "      <td>Yellow Cab</td>\n",
       "      <td>ATLANTA GA</td>\n",
       "      <td>42.55</td>\n",
       "      <td>792.05</td>\n",
       "      <td>597.4020</td>\n",
       "      <td>814885</td>\n",
       "      <td>24701</td>\n",
       "      <td>194.65</td>\n",
       "    </tr>\n",
       "    <tr>\n",
       "      <th>3</th>\n",
       "      <td>10000012</td>\n",
       "      <td>27703</td>\n",
       "      <td>Card</td>\n",
       "      <td>Male</td>\n",
       "      <td>27</td>\n",
       "      <td>9237</td>\n",
       "      <td>2016-01-06</td>\n",
       "      <td>Pink Cab</td>\n",
       "      <td>ATLANTA GA</td>\n",
       "      <td>28.62</td>\n",
       "      <td>358.52</td>\n",
       "      <td>334.8540</td>\n",
       "      <td>814885</td>\n",
       "      <td>24701</td>\n",
       "      <td>23.67</td>\n",
       "    </tr>\n",
       "    <tr>\n",
       "      <th>4</th>\n",
       "      <td>10320494</td>\n",
       "      <td>27703</td>\n",
       "      <td>Card</td>\n",
       "      <td>Male</td>\n",
       "      <td>27</td>\n",
       "      <td>9237</td>\n",
       "      <td>2018-04-21</td>\n",
       "      <td>Yellow Cab</td>\n",
       "      <td>ATLANTA GA</td>\n",
       "      <td>36.38</td>\n",
       "      <td>721.10</td>\n",
       "      <td>467.1192</td>\n",
       "      <td>814885</td>\n",
       "      <td>24701</td>\n",
       "      <td>253.98</td>\n",
       "    </tr>\n",
       "  </tbody>\n",
       "</table>\n",
       "</div>"
      ],
      "text/plain": [
       "   Transaction ID  Customer ID Payment_Mode Gender  Age  Income (USD/Month)  \\\n",
       "0        10000011        29290         Card   Male   28               10813   \n",
       "1        10351127        29290         Cash   Male   28               10813   \n",
       "2        10412921        29290         Card   Male   28               10813   \n",
       "3        10000012        27703         Card   Male   27                9237   \n",
       "4        10320494        27703         Card   Male   27                9237   \n",
       "\n",
       "  Date of Travel     Company        City  KM Travelled  Price Charged  \\\n",
       "0     2016-01-08    Pink Cab  ATLANTA GA         30.45         370.95   \n",
       "1     2018-07-21  Yellow Cab  ATLANTA GA         26.19         598.70   \n",
       "2     2018-11-23  Yellow Cab  ATLANTA GA         42.55         792.05   \n",
       "3     2016-01-06    Pink Cab  ATLANTA GA         28.62         358.52   \n",
       "4     2018-04-21  Yellow Cab  ATLANTA GA         36.38         721.10   \n",
       "\n",
       "   Cost of Trip  Population  Users  Profit  \n",
       "0      313.6350      814885  24701   57.32  \n",
       "1      317.4228      814885  24701  281.28  \n",
       "2      597.4020      814885  24701  194.65  \n",
       "3      334.8540      814885  24701   23.67  \n",
       "4      467.1192      814885  24701  253.98  "
      ]
     },
     "execution_count": 22,
     "metadata": {},
     "output_type": "execute_result"
    }
   ],
   "source": [
    "# add new \"Profit\" column that calculates profit for each trip\n",
    "final_cab_data['Profit'] = (\n",
    "    final_cab_data['Price Charged'] - final_cab_data['Cost of Trip']).round(decimals=2)\n",
    "final_cab_data.head()"
   ]
  },
  {
   "cell_type": "code",
   "execution_count": 23,
   "id": "fd1b166a",
   "metadata": {},
   "outputs": [
    {
     "data": {
      "text/html": [
       "<div>\n",
       "<style scoped>\n",
       "    .dataframe tbody tr th:only-of-type {\n",
       "        vertical-align: middle;\n",
       "    }\n",
       "\n",
       "    .dataframe tbody tr th {\n",
       "        vertical-align: top;\n",
       "    }\n",
       "\n",
       "    .dataframe thead th {\n",
       "        text-align: right;\n",
       "    }\n",
       "</style>\n",
       "<table border=\"1\" class=\"dataframe\">\n",
       "  <thead>\n",
       "    <tr style=\"text-align: right;\">\n",
       "      <th></th>\n",
       "      <th>Transaction ID</th>\n",
       "      <th>Customer ID</th>\n",
       "      <th>Payment_Mode</th>\n",
       "      <th>Gender</th>\n",
       "      <th>Age</th>\n",
       "      <th>Income (USD/Month)</th>\n",
       "      <th>Date of Travel</th>\n",
       "      <th>Company</th>\n",
       "      <th>City</th>\n",
       "      <th>KM Travelled</th>\n",
       "      <th>Price Charged</th>\n",
       "      <th>Cost of Trip</th>\n",
       "      <th>Population</th>\n",
       "      <th>Users</th>\n",
       "      <th>Profit</th>\n",
       "      <th>Profit per KM</th>\n",
       "    </tr>\n",
       "  </thead>\n",
       "  <tbody>\n",
       "    <tr>\n",
       "      <th>0</th>\n",
       "      <td>10000011</td>\n",
       "      <td>29290</td>\n",
       "      <td>Card</td>\n",
       "      <td>Male</td>\n",
       "      <td>28</td>\n",
       "      <td>10813</td>\n",
       "      <td>2016-01-08</td>\n",
       "      <td>Pink Cab</td>\n",
       "      <td>ATLANTA GA</td>\n",
       "      <td>30.45</td>\n",
       "      <td>370.95</td>\n",
       "      <td>313.6350</td>\n",
       "      <td>814885</td>\n",
       "      <td>24701</td>\n",
       "      <td>57.32</td>\n",
       "      <td>1.88</td>\n",
       "    </tr>\n",
       "    <tr>\n",
       "      <th>1</th>\n",
       "      <td>10351127</td>\n",
       "      <td>29290</td>\n",
       "      <td>Cash</td>\n",
       "      <td>Male</td>\n",
       "      <td>28</td>\n",
       "      <td>10813</td>\n",
       "      <td>2018-07-21</td>\n",
       "      <td>Yellow Cab</td>\n",
       "      <td>ATLANTA GA</td>\n",
       "      <td>26.19</td>\n",
       "      <td>598.70</td>\n",
       "      <td>317.4228</td>\n",
       "      <td>814885</td>\n",
       "      <td>24701</td>\n",
       "      <td>281.28</td>\n",
       "      <td>10.74</td>\n",
       "    </tr>\n",
       "    <tr>\n",
       "      <th>2</th>\n",
       "      <td>10412921</td>\n",
       "      <td>29290</td>\n",
       "      <td>Card</td>\n",
       "      <td>Male</td>\n",
       "      <td>28</td>\n",
       "      <td>10813</td>\n",
       "      <td>2018-11-23</td>\n",
       "      <td>Yellow Cab</td>\n",
       "      <td>ATLANTA GA</td>\n",
       "      <td>42.55</td>\n",
       "      <td>792.05</td>\n",
       "      <td>597.4020</td>\n",
       "      <td>814885</td>\n",
       "      <td>24701</td>\n",
       "      <td>194.65</td>\n",
       "      <td>4.57</td>\n",
       "    </tr>\n",
       "    <tr>\n",
       "      <th>3</th>\n",
       "      <td>10000012</td>\n",
       "      <td>27703</td>\n",
       "      <td>Card</td>\n",
       "      <td>Male</td>\n",
       "      <td>27</td>\n",
       "      <td>9237</td>\n",
       "      <td>2016-01-06</td>\n",
       "      <td>Pink Cab</td>\n",
       "      <td>ATLANTA GA</td>\n",
       "      <td>28.62</td>\n",
       "      <td>358.52</td>\n",
       "      <td>334.8540</td>\n",
       "      <td>814885</td>\n",
       "      <td>24701</td>\n",
       "      <td>23.67</td>\n",
       "      <td>0.83</td>\n",
       "    </tr>\n",
       "    <tr>\n",
       "      <th>4</th>\n",
       "      <td>10320494</td>\n",
       "      <td>27703</td>\n",
       "      <td>Card</td>\n",
       "      <td>Male</td>\n",
       "      <td>27</td>\n",
       "      <td>9237</td>\n",
       "      <td>2018-04-21</td>\n",
       "      <td>Yellow Cab</td>\n",
       "      <td>ATLANTA GA</td>\n",
       "      <td>36.38</td>\n",
       "      <td>721.10</td>\n",
       "      <td>467.1192</td>\n",
       "      <td>814885</td>\n",
       "      <td>24701</td>\n",
       "      <td>253.98</td>\n",
       "      <td>6.98</td>\n",
       "    </tr>\n",
       "  </tbody>\n",
       "</table>\n",
       "</div>"
      ],
      "text/plain": [
       "   Transaction ID  Customer ID Payment_Mode Gender  Age  Income (USD/Month)  \\\n",
       "0        10000011        29290         Card   Male   28               10813   \n",
       "1        10351127        29290         Cash   Male   28               10813   \n",
       "2        10412921        29290         Card   Male   28               10813   \n",
       "3        10000012        27703         Card   Male   27                9237   \n",
       "4        10320494        27703         Card   Male   27                9237   \n",
       "\n",
       "  Date of Travel     Company        City  KM Travelled  Price Charged  \\\n",
       "0     2016-01-08    Pink Cab  ATLANTA GA         30.45         370.95   \n",
       "1     2018-07-21  Yellow Cab  ATLANTA GA         26.19         598.70   \n",
       "2     2018-11-23  Yellow Cab  ATLANTA GA         42.55         792.05   \n",
       "3     2016-01-06    Pink Cab  ATLANTA GA         28.62         358.52   \n",
       "4     2018-04-21  Yellow Cab  ATLANTA GA         36.38         721.10   \n",
       "\n",
       "   Cost of Trip  Population  Users  Profit  Profit per KM  \n",
       "0      313.6350      814885  24701   57.32           1.88  \n",
       "1      317.4228      814885  24701  281.28          10.74  \n",
       "2      597.4020      814885  24701  194.65           4.57  \n",
       "3      334.8540      814885  24701   23.67           0.83  \n",
       "4      467.1192      814885  24701  253.98           6.98  "
      ]
     },
     "execution_count": 23,
     "metadata": {},
     "output_type": "execute_result"
    }
   ],
   "source": [
    "# add new \"Profit per KM\" column that calculates profit per kilometre travelled for each trip\n",
    "final_cab_data['Profit per KM'] = (\n",
    "    final_cab_data['Profit'] / final_cab_data['KM Travelled']).round(decimals=2)\n",
    "final_cab_data.head()"
   ]
  },
  {
   "cell_type": "code",
   "execution_count": 24,
   "id": "05760184",
   "metadata": {},
   "outputs": [],
   "source": [
    "# add new \"Income Class\" column that group each customer income class\n",
    "def income_class(income):\n",
    "\n",
    "    income_dict = {0: 'Poor or near-poor',\n",
    "                   1: 'Lower-middle class',\n",
    "                   2: 'Middle class',\n",
    "                   3: 'Upper-middle class',\n",
    "                   4: 'Rich'}\n",
    "\n",
    "    if (income <= 32048):\n",
    "        return income_dict[0]\n",
    "    elif (income > 32048 and income <= 53413):\n",
    "        return income_dict[1]\n",
    "    elif (income > 53413 and income <= 106827):\n",
    "        return income_dict[2]\n",
    "    elif (income > 106827 and income <= 373894):\n",
    "        return income_dict[3]\n",
    "    elif (income > 373894):\n",
    "        return income_dict[4]\n",
    "\n",
    "\n",
    "final_cab_data['Income Class'] = (\n",
    "    final_cab_data['Income (USD/Month)']*12).apply(income_class)"
   ]
  },
  {
   "cell_type": "code",
   "execution_count": 25,
   "id": "bb37ea31",
   "metadata": {},
   "outputs": [
    {
     "data": {
      "text/html": [
       "<div>\n",
       "<style scoped>\n",
       "    .dataframe tbody tr th:only-of-type {\n",
       "        vertical-align: middle;\n",
       "    }\n",
       "\n",
       "    .dataframe tbody tr th {\n",
       "        vertical-align: top;\n",
       "    }\n",
       "\n",
       "    .dataframe thead th {\n",
       "        text-align: right;\n",
       "    }\n",
       "</style>\n",
       "<table border=\"1\" class=\"dataframe\">\n",
       "  <thead>\n",
       "    <tr style=\"text-align: right;\">\n",
       "      <th></th>\n",
       "      <th>Transaction ID</th>\n",
       "      <th>Customer ID</th>\n",
       "      <th>Payment_Mode</th>\n",
       "      <th>Gender</th>\n",
       "      <th>Age</th>\n",
       "      <th>Income (USD/Month)</th>\n",
       "      <th>Date of Travel</th>\n",
       "      <th>Company</th>\n",
       "      <th>City</th>\n",
       "      <th>KM Travelled</th>\n",
       "      <th>Price Charged</th>\n",
       "      <th>Cost of Trip</th>\n",
       "      <th>Population</th>\n",
       "      <th>Users</th>\n",
       "      <th>Profit</th>\n",
       "      <th>Profit per KM</th>\n",
       "      <th>Income Class</th>\n",
       "      <th>Age Group</th>\n",
       "    </tr>\n",
       "  </thead>\n",
       "  <tbody>\n",
       "    <tr>\n",
       "      <th>0</th>\n",
       "      <td>10000011</td>\n",
       "      <td>29290</td>\n",
       "      <td>Card</td>\n",
       "      <td>Male</td>\n",
       "      <td>28</td>\n",
       "      <td>10813</td>\n",
       "      <td>2016-01-08</td>\n",
       "      <td>Pink Cab</td>\n",
       "      <td>ATLANTA GA</td>\n",
       "      <td>30.45</td>\n",
       "      <td>370.95</td>\n",
       "      <td>313.6350</td>\n",
       "      <td>814885</td>\n",
       "      <td>24701</td>\n",
       "      <td>57.32</td>\n",
       "      <td>1.88</td>\n",
       "      <td>Upper-middle class</td>\n",
       "      <td>26-40</td>\n",
       "    </tr>\n",
       "    <tr>\n",
       "      <th>1</th>\n",
       "      <td>10351127</td>\n",
       "      <td>29290</td>\n",
       "      <td>Cash</td>\n",
       "      <td>Male</td>\n",
       "      <td>28</td>\n",
       "      <td>10813</td>\n",
       "      <td>2018-07-21</td>\n",
       "      <td>Yellow Cab</td>\n",
       "      <td>ATLANTA GA</td>\n",
       "      <td>26.19</td>\n",
       "      <td>598.70</td>\n",
       "      <td>317.4228</td>\n",
       "      <td>814885</td>\n",
       "      <td>24701</td>\n",
       "      <td>281.28</td>\n",
       "      <td>10.74</td>\n",
       "      <td>Upper-middle class</td>\n",
       "      <td>26-40</td>\n",
       "    </tr>\n",
       "    <tr>\n",
       "      <th>2</th>\n",
       "      <td>10412921</td>\n",
       "      <td>29290</td>\n",
       "      <td>Card</td>\n",
       "      <td>Male</td>\n",
       "      <td>28</td>\n",
       "      <td>10813</td>\n",
       "      <td>2018-11-23</td>\n",
       "      <td>Yellow Cab</td>\n",
       "      <td>ATLANTA GA</td>\n",
       "      <td>42.55</td>\n",
       "      <td>792.05</td>\n",
       "      <td>597.4020</td>\n",
       "      <td>814885</td>\n",
       "      <td>24701</td>\n",
       "      <td>194.65</td>\n",
       "      <td>4.57</td>\n",
       "      <td>Upper-middle class</td>\n",
       "      <td>26-40</td>\n",
       "    </tr>\n",
       "    <tr>\n",
       "      <th>3</th>\n",
       "      <td>10000012</td>\n",
       "      <td>27703</td>\n",
       "      <td>Card</td>\n",
       "      <td>Male</td>\n",
       "      <td>27</td>\n",
       "      <td>9237</td>\n",
       "      <td>2016-01-06</td>\n",
       "      <td>Pink Cab</td>\n",
       "      <td>ATLANTA GA</td>\n",
       "      <td>28.62</td>\n",
       "      <td>358.52</td>\n",
       "      <td>334.8540</td>\n",
       "      <td>814885</td>\n",
       "      <td>24701</td>\n",
       "      <td>23.67</td>\n",
       "      <td>0.83</td>\n",
       "      <td>Upper-middle class</td>\n",
       "      <td>26-40</td>\n",
       "    </tr>\n",
       "    <tr>\n",
       "      <th>4</th>\n",
       "      <td>10320494</td>\n",
       "      <td>27703</td>\n",
       "      <td>Card</td>\n",
       "      <td>Male</td>\n",
       "      <td>27</td>\n",
       "      <td>9237</td>\n",
       "      <td>2018-04-21</td>\n",
       "      <td>Yellow Cab</td>\n",
       "      <td>ATLANTA GA</td>\n",
       "      <td>36.38</td>\n",
       "      <td>721.10</td>\n",
       "      <td>467.1192</td>\n",
       "      <td>814885</td>\n",
       "      <td>24701</td>\n",
       "      <td>253.98</td>\n",
       "      <td>6.98</td>\n",
       "      <td>Upper-middle class</td>\n",
       "      <td>26-40</td>\n",
       "    </tr>\n",
       "    <tr>\n",
       "      <th>...</th>\n",
       "      <td>...</td>\n",
       "      <td>...</td>\n",
       "      <td>...</td>\n",
       "      <td>...</td>\n",
       "      <td>...</td>\n",
       "      <td>...</td>\n",
       "      <td>...</td>\n",
       "      <td>...</td>\n",
       "      <td>...</td>\n",
       "      <td>...</td>\n",
       "      <td>...</td>\n",
       "      <td>...</td>\n",
       "      <td>...</td>\n",
       "      <td>...</td>\n",
       "      <td>...</td>\n",
       "      <td>...</td>\n",
       "      <td>...</td>\n",
       "      <td>...</td>\n",
       "    </tr>\n",
       "    <tr>\n",
       "      <th>359387</th>\n",
       "      <td>10307228</td>\n",
       "      <td>51406</td>\n",
       "      <td>Cash</td>\n",
       "      <td>Female</td>\n",
       "      <td>29</td>\n",
       "      <td>6829</td>\n",
       "      <td>2018-03-03</td>\n",
       "      <td>Yellow Cab</td>\n",
       "      <td>WASHINGTON DC</td>\n",
       "      <td>38.40</td>\n",
       "      <td>668.93</td>\n",
       "      <td>525.3120</td>\n",
       "      <td>418859</td>\n",
       "      <td>127001</td>\n",
       "      <td>143.62</td>\n",
       "      <td>3.74</td>\n",
       "      <td>Middle class</td>\n",
       "      <td>26-40</td>\n",
       "    </tr>\n",
       "    <tr>\n",
       "      <th>359388</th>\n",
       "      <td>10319775</td>\n",
       "      <td>51406</td>\n",
       "      <td>Cash</td>\n",
       "      <td>Female</td>\n",
       "      <td>29</td>\n",
       "      <td>6829</td>\n",
       "      <td>2018-04-13</td>\n",
       "      <td>Yellow Cab</td>\n",
       "      <td>WASHINGTON DC</td>\n",
       "      <td>3.57</td>\n",
       "      <td>67.60</td>\n",
       "      <td>44.5536</td>\n",
       "      <td>418859</td>\n",
       "      <td>127001</td>\n",
       "      <td>23.05</td>\n",
       "      <td>6.46</td>\n",
       "      <td>Middle class</td>\n",
       "      <td>26-40</td>\n",
       "    </tr>\n",
       "    <tr>\n",
       "      <th>359389</th>\n",
       "      <td>10347676</td>\n",
       "      <td>51406</td>\n",
       "      <td>Card</td>\n",
       "      <td>Female</td>\n",
       "      <td>29</td>\n",
       "      <td>6829</td>\n",
       "      <td>2018-07-06</td>\n",
       "      <td>Yellow Cab</td>\n",
       "      <td>WASHINGTON DC</td>\n",
       "      <td>23.46</td>\n",
       "      <td>331.97</td>\n",
       "      <td>337.8240</td>\n",
       "      <td>418859</td>\n",
       "      <td>127001</td>\n",
       "      <td>-5.85</td>\n",
       "      <td>-0.25</td>\n",
       "      <td>Middle class</td>\n",
       "      <td>26-40</td>\n",
       "    </tr>\n",
       "    <tr>\n",
       "      <th>359390</th>\n",
       "      <td>10358624</td>\n",
       "      <td>51406</td>\n",
       "      <td>Cash</td>\n",
       "      <td>Female</td>\n",
       "      <td>29</td>\n",
       "      <td>6829</td>\n",
       "      <td>2018-08-02</td>\n",
       "      <td>Yellow Cab</td>\n",
       "      <td>WASHINGTON DC</td>\n",
       "      <td>27.60</td>\n",
       "      <td>358.23</td>\n",
       "      <td>364.3200</td>\n",
       "      <td>418859</td>\n",
       "      <td>127001</td>\n",
       "      <td>-6.09</td>\n",
       "      <td>-0.22</td>\n",
       "      <td>Middle class</td>\n",
       "      <td>26-40</td>\n",
       "    </tr>\n",
       "    <tr>\n",
       "      <th>359391</th>\n",
       "      <td>10370709</td>\n",
       "      <td>51406</td>\n",
       "      <td>Card</td>\n",
       "      <td>Female</td>\n",
       "      <td>29</td>\n",
       "      <td>6829</td>\n",
       "      <td>2018-08-30</td>\n",
       "      <td>Yellow Cab</td>\n",
       "      <td>WASHINGTON DC</td>\n",
       "      <td>34.24</td>\n",
       "      <td>453.11</td>\n",
       "      <td>427.3152</td>\n",
       "      <td>418859</td>\n",
       "      <td>127001</td>\n",
       "      <td>25.79</td>\n",
       "      <td>0.75</td>\n",
       "      <td>Middle class</td>\n",
       "      <td>26-40</td>\n",
       "    </tr>\n",
       "  </tbody>\n",
       "</table>\n",
       "<p>359392 rows × 18 columns</p>\n",
       "</div>"
      ],
      "text/plain": [
       "        Transaction ID  Customer ID Payment_Mode  Gender  Age  \\\n",
       "0             10000011        29290         Card    Male   28   \n",
       "1             10351127        29290         Cash    Male   28   \n",
       "2             10412921        29290         Card    Male   28   \n",
       "3             10000012        27703         Card    Male   27   \n",
       "4             10320494        27703         Card    Male   27   \n",
       "...                ...          ...          ...     ...  ...   \n",
       "359387        10307228        51406         Cash  Female   29   \n",
       "359388        10319775        51406         Cash  Female   29   \n",
       "359389        10347676        51406         Card  Female   29   \n",
       "359390        10358624        51406         Cash  Female   29   \n",
       "359391        10370709        51406         Card  Female   29   \n",
       "\n",
       "        Income (USD/Month) Date of Travel     Company           City  \\\n",
       "0                    10813     2016-01-08    Pink Cab     ATLANTA GA   \n",
       "1                    10813     2018-07-21  Yellow Cab     ATLANTA GA   \n",
       "2                    10813     2018-11-23  Yellow Cab     ATLANTA GA   \n",
       "3                     9237     2016-01-06    Pink Cab     ATLANTA GA   \n",
       "4                     9237     2018-04-21  Yellow Cab     ATLANTA GA   \n",
       "...                    ...            ...         ...            ...   \n",
       "359387                6829     2018-03-03  Yellow Cab  WASHINGTON DC   \n",
       "359388                6829     2018-04-13  Yellow Cab  WASHINGTON DC   \n",
       "359389                6829     2018-07-06  Yellow Cab  WASHINGTON DC   \n",
       "359390                6829     2018-08-02  Yellow Cab  WASHINGTON DC   \n",
       "359391                6829     2018-08-30  Yellow Cab  WASHINGTON DC   \n",
       "\n",
       "        KM Travelled  Price Charged  Cost of Trip  Population   Users  Profit  \\\n",
       "0              30.45         370.95      313.6350      814885   24701   57.32   \n",
       "1              26.19         598.70      317.4228      814885   24701  281.28   \n",
       "2              42.55         792.05      597.4020      814885   24701  194.65   \n",
       "3              28.62         358.52      334.8540      814885   24701   23.67   \n",
       "4              36.38         721.10      467.1192      814885   24701  253.98   \n",
       "...              ...            ...           ...         ...     ...     ...   \n",
       "359387         38.40         668.93      525.3120      418859  127001  143.62   \n",
       "359388          3.57          67.60       44.5536      418859  127001   23.05   \n",
       "359389         23.46         331.97      337.8240      418859  127001   -5.85   \n",
       "359390         27.60         358.23      364.3200      418859  127001   -6.09   \n",
       "359391         34.24         453.11      427.3152      418859  127001   25.79   \n",
       "\n",
       "        Profit per KM        Income Class Age Group  \n",
       "0                1.88  Upper-middle class     26-40  \n",
       "1               10.74  Upper-middle class     26-40  \n",
       "2                4.57  Upper-middle class     26-40  \n",
       "3                0.83  Upper-middle class     26-40  \n",
       "4                6.98  Upper-middle class     26-40  \n",
       "...               ...                 ...       ...  \n",
       "359387           3.74        Middle class     26-40  \n",
       "359388           6.46        Middle class     26-40  \n",
       "359389          -0.25        Middle class     26-40  \n",
       "359390          -0.22        Middle class     26-40  \n",
       "359391           0.75        Middle class     26-40  \n",
       "\n",
       "[359392 rows x 18 columns]"
      ]
     },
     "execution_count": 25,
     "metadata": {},
     "output_type": "execute_result"
    }
   ],
   "source": [
    "# add new \"Age Group\" column that group each customer age\n",
    "final_cab_data['Age Group'] = pd.cut(\n",
    "    final_cab_data['Age'], bins=[18, 25, 40, 60, 100], labels=['18-25', '26-40', '41-60', '60+'], include_lowest=True)\n",
    "final_cab_data"
   ]
  },
  {
   "cell_type": "code",
   "execution_count": 26,
   "id": "604513df",
   "metadata": {},
   "outputs": [
    {
     "name": "stdout",
     "output_type": "stream",
     "text": [
      "<class 'pandas.core.frame.DataFrame'>\n",
      "Int64Index: 359392 entries, 0 to 359391\n",
      "Data columns (total 18 columns):\n",
      " #   Column              Non-Null Count   Dtype         \n",
      "---  ------              --------------   -----         \n",
      " 0   Transaction ID      359392 non-null  int64         \n",
      " 1   Customer ID         359392 non-null  int64         \n",
      " 2   Payment_Mode        359392 non-null  category      \n",
      " 3   Gender              359392 non-null  category      \n",
      " 4   Age                 359392 non-null  int64         \n",
      " 5   Income (USD/Month)  359392 non-null  int64         \n",
      " 6   Date of Travel      359392 non-null  datetime64[ns]\n",
      " 7   Company             359392 non-null  category      \n",
      " 8   City                359392 non-null  category      \n",
      " 9   KM Travelled        359392 non-null  float64       \n",
      " 10  Price Charged       359392 non-null  float64       \n",
      " 11  Cost of Trip        359392 non-null  float64       \n",
      " 12  Population          359392 non-null  int64         \n",
      " 13  Users               359392 non-null  int64         \n",
      " 14  Profit              359392 non-null  float64       \n",
      " 15  Profit per KM       359392 non-null  float64       \n",
      " 16  Income Class        359392 non-null  category      \n",
      " 17  Age Group           359392 non-null  category      \n",
      "dtypes: category(6), datetime64[ns](1), float64(5), int64(6)\n",
      "memory usage: 37.7 MB\n"
     ]
    }
   ],
   "source": [
    "# convert data type of \"Company\", \"City\", \"Payment_Mode\", \"Gender\", \"Income Class\", \"Age Group\" columns in final_cab_data to category\n",
    "for column in ['Company', 'City', 'Payment_Mode', 'Gender', 'Income Class', 'Age Group']:\n",
    "\n",
    "    final_cab_data[column] = final_cab_data[column].astype('category')\n",
    "\n",
    "final_cab_data.info()"
   ]
  },
  {
   "cell_type": "markdown",
   "id": "9ec944e7",
   "metadata": {},
   "source": [
    "### Analysis"
   ]
  },
  {
   "cell_type": "code",
   "execution_count": 27,
   "id": "c2127bcd",
   "metadata": {
    "scrolled": false
   },
   "outputs": [
    {
     "data": {
      "image/png": "[encoded data removed]",
      "text/plain": [
       "<Figure size 1152x648 with 2 Axes>"
      ]
     },
     "metadata": {
      "needs_background": "light"
     },
     "output_type": "display_data"
    }
   ],
   "source": [
    "# plot correlation of the cab data\n",
    "plt.figure(figsize=(16, 9))\n",
    "plt.title('Correlation Heatmap of Cab Data', fontsize='20')\n",
    "\n",
    "sns.heatmap(final_cab_data.corr(), xticklabels=final_cab_data.corr(\n",
    ").columns, yticklabels=final_cab_data.corr().columns, annot=True, linewidth=2);"
   ]
  },
  {
   "cell_type": "markdown",
   "id": "b0a735b7",
   "metadata": {},
   "source": [
    "There is a strong correlation between \n",
    "- Price Charged and KM Travelled\n",
    "- Cost of Trip and KM Travelled\n",
    "- Cost of Trip and Price Charged\n",
    "- Profit and Price Charged\n",
    "- Population and Users"
   ]
  },
  {
   "cell_type": "markdown",
   "id": "854bed43",
   "metadata": {},
   "source": [
    "#### Total number of Rides"
   ]
  },
  {
   "cell_type": "code",
   "execution_count": 28,
   "id": "f09c300c",
   "metadata": {},
   "outputs": [
    {
     "data": {
      "image/png": "[encoded data removed]",
      "text/plain": [
       "<Figure size 1152x648 with 1 Axes>"
      ]
     },
     "metadata": {
      "needs_background": "light"
     },
     "output_type": "display_data"
    }
   ],
   "source": [
    "# plot total rides for each company \n",
    "fig, ax = plt.subplots(figsize=[16, 9])\n",
    "ax = sns.countplot(x='Company', data=final_cab_data,\n",
    "                   palette=['pink', 'yellow'])\n",
    "ax.set_title('Total Number of Rides')\n",
    "ax.set_ylabel('Count')\n",
    "\n",
    "for c in ax.patches:\n",
    "    ax.annotate(\"%.0f\" % c.get_height(), (c.get_x() + c.get_width() / 2., c.get_height()),\n",
    "                ha='center', va='center', fontsize=10, color='black', xytext=(0, 15),\n",
    "                   textcoords='offset points')"
   ]
  },
  {
   "cell_type": "markdown",
   "id": "fd025e5b",
   "metadata": {},
   "source": [
    "Yellow Cab Company has more number of rides."
   ]
  },
  {
   "cell_type": "markdown",
   "id": "ead8cd85",
   "metadata": {},
   "source": [
    "#### Profit Earned"
   ]
  },
  {
   "cell_type": "code",
   "execution_count": 29,
   "id": "9f97f444",
   "metadata": {},
   "outputs": [
    {
     "data": {
      "text/html": [
       "<div>\n",
       "<style scoped>\n",
       "    .dataframe tbody tr th:only-of-type {\n",
       "        vertical-align: middle;\n",
       "    }\n",
       "\n",
       "    .dataframe tbody tr th {\n",
       "        vertical-align: top;\n",
       "    }\n",
       "\n",
       "    .dataframe thead th {\n",
       "        text-align: right;\n",
       "    }\n",
       "</style>\n",
       "<table border=\"1\" class=\"dataframe\">\n",
       "  <thead>\n",
       "    <tr style=\"text-align: right;\">\n",
       "      <th></th>\n",
       "      <th>Company</th>\n",
       "      <th>Profit</th>\n",
       "      <th>Profit per KM</th>\n",
       "    </tr>\n",
       "  </thead>\n",
       "  <tbody>\n",
       "    <tr>\n",
       "      <th>0</th>\n",
       "      <td>Pink Cab</td>\n",
       "      <td>$5.3M</td>\n",
       "      <td>2.769906</td>\n",
       "    </tr>\n",
       "    <tr>\n",
       "      <th>1</th>\n",
       "      <td>Yellow Cab</td>\n",
       "      <td>$44.0M</td>\n",
       "      <td>7.105501</td>\n",
       "    </tr>\n",
       "  </tbody>\n",
       "</table>\n",
       "</div>"
      ],
      "text/plain": [
       "      Company  Profit  Profit per KM\n",
       "0    Pink Cab   $5.3M       2.769906\n",
       "1  Yellow Cab  $44.0M       7.105501"
      ]
     },
     "execution_count": 29,
     "metadata": {},
     "output_type": "execute_result"
    }
   ],
   "source": [
    "# profit earned over the years\n",
    "profit_table = final_cab_data.groupby(['Company']).agg(\n",
    "    {'Profit': 'sum', 'Profit per KM': 'mean'}).reset_index()\n",
    "\n",
    "\n",
    "def format(x): return \"${:.1f}M\".format(x/1000000)\n",
    "\n",
    "\n",
    "profit_table['Profit'] = profit_table['Profit'].apply(format)\n",
    "profit_table"
   ]
  },
  {
   "cell_type": "markdown",
   "id": "32147da2",
   "metadata": {},
   "source": [
    "Yellow Cab Company has earned more than eight times the earnings of Pink Cab Company, and Yellow Cab Company has earned more profit per kilometre travelled."
   ]
  },
  {
   "cell_type": "code",
   "execution_count": 30,
   "id": "a0ce801e",
   "metadata": {},
   "outputs": [
    {
     "data": {
      "image/png": "[encoded data removed]",
      "text/plain": [
       "<Figure size 1152x648 with 1 Axes>"
      ]
     },
     "metadata": {
      "needs_background": "light"
     },
     "output_type": "display_data"
    }
   ],
   "source": [
    "# extract the year from \"Date of Travel\" column\n",
    "final_cab_data['Year'] = pd.DatetimeIndex(\n",
    "    final_cab_data['Date of Travel']).year\n",
    "year_profit = final_cab_data.groupby(['Year', 'Company'])[\n",
    "    'Profit'].sum().reset_index(name='Year Profit')\n",
    "\n",
    "# total profit for each year\n",
    "fig, ax = plt.subplots(figsize=[16, 9])\n",
    "ax = sns.barplot(x=\"Year\", y='Year Profit', data=year_profit,\n",
    "                 hue='Company', palette=['pink', 'yellow'])\n",
    "ax.set_title('Profit over the Years')\n",
    "for c in ax.patches:\n",
    "    ax.annotate(\"$%.0f\" % c.get_height(), (c.get_x() + c.get_width() / 2., c.get_height()),\n",
    "                ha='center', va='center', fontsize=10, color='black', xytext=(0, 15),\n",
    "                textcoords='offset points')\n"
   ]
  },
  {
   "cell_type": "markdown",
   "id": "9898ded2",
   "metadata": {},
   "source": [
    "Over time, the Yellow Cab Company has made more profit."
   ]
  },
  {
   "cell_type": "code",
   "execution_count": 31,
   "id": "fe94a97e",
   "metadata": {},
   "outputs": [
    {
     "data": {
      "text/html": [
       "<div>\n",
       "<style scoped>\n",
       "    .dataframe tbody tr th:only-of-type {\n",
       "        vertical-align: middle;\n",
       "    }\n",
       "\n",
       "    .dataframe tbody tr th {\n",
       "        vertical-align: top;\n",
       "    }\n",
       "\n",
       "    .dataframe thead th {\n",
       "        text-align: right;\n",
       "    }\n",
       "</style>\n",
       "<table border=\"1\" class=\"dataframe\">\n",
       "  <thead>\n",
       "    <tr style=\"text-align: right;\">\n",
       "      <th></th>\n",
       "      <th>Year</th>\n",
       "      <th>Company</th>\n",
       "      <th>Year Profit</th>\n",
       "      <th>Percent Change (%)</th>\n",
       "    </tr>\n",
       "  </thead>\n",
       "  <tbody>\n",
       "    <tr>\n",
       "      <th>0</th>\n",
       "      <td>2016</td>\n",
       "      <td>Pink Cab</td>\n",
       "      <td>1713511.27</td>\n",
       "      <td>NaN</td>\n",
       "    </tr>\n",
       "    <tr>\n",
       "      <th>1</th>\n",
       "      <td>2016</td>\n",
       "      <td>Yellow Cab</td>\n",
       "      <td>13926996.40</td>\n",
       "      <td>NaN</td>\n",
       "    </tr>\n",
       "    <tr>\n",
       "      <th>2</th>\n",
       "      <td>2017</td>\n",
       "      <td>Pink Cab</td>\n",
       "      <td>2033655.24</td>\n",
       "      <td>18.683505</td>\n",
       "    </tr>\n",
       "    <tr>\n",
       "      <th>3</th>\n",
       "      <td>2017</td>\n",
       "      <td>Yellow Cab</td>\n",
       "      <td>16575977.40</td>\n",
       "      <td>19.020476</td>\n",
       "    </tr>\n",
       "    <tr>\n",
       "      <th>4</th>\n",
       "      <td>2018</td>\n",
       "      <td>Pink Cab</td>\n",
       "      <td>1560162.00</td>\n",
       "      <td>-23.282867</td>\n",
       "    </tr>\n",
       "    <tr>\n",
       "      <th>5</th>\n",
       "      <td>2018</td>\n",
       "      <td>Yellow Cab</td>\n",
       "      <td>13517398.79</td>\n",
       "      <td>-18.451875</td>\n",
       "    </tr>\n",
       "  </tbody>\n",
       "</table>\n",
       "</div>"
      ],
      "text/plain": [
       "   Year     Company  Year Profit  Percent Change (%)\n",
       "0  2016    Pink Cab   1713511.27                 NaN\n",
       "1  2016  Yellow Cab  13926996.40                 NaN\n",
       "2  2017    Pink Cab   2033655.24           18.683505\n",
       "3  2017  Yellow Cab  16575977.40           19.020476\n",
       "4  2018    Pink Cab   1560162.00          -23.282867\n",
       "5  2018  Yellow Cab  13517398.79          -18.451875"
      ]
     },
     "execution_count": 31,
     "metadata": {},
     "output_type": "execute_result"
    }
   ],
   "source": [
    "# percentage change of over the years\n",
    "year_profit['Percent Change (%)'] = year_profit.groupby(\n",
    "    ['Company'])[['Year Profit']].pct_change().mul(100)\n",
    "year_profit"
   ]
  },
  {
   "cell_type": "markdown",
   "id": "d19cc762",
   "metadata": {},
   "source": [
    "Profit for both cab companies increased from 2016 to 2017, but decreased from 2017 to 2018."
   ]
  },
  {
   "cell_type": "code",
   "execution_count": 32,
   "id": "fa372610",
   "metadata": {},
   "outputs": [
    {
     "data": {
      "image/png": "[encoded data removed]",
      "text/plain": [
       "<Figure size 1152x648 with 1 Axes>"
      ]
     },
     "metadata": {
      "needs_background": "light"
     },
     "output_type": "display_data"
    }
   ],
   "source": [
    "# average profit per ride for each company\n",
    "fig, ax = plt.subplots(figsize=[16, 9])\n",
    "ax = sns.barplot(x='Company', y='Profit', data=final_cab_data,\n",
    "                 palette=['pink', 'yellow'])\n",
    "ax.set_title('Average Profit per Ride')\n",
    "for c in ax.patches:\n",
    "    ax.annotate(\"$%.0f\" % c.get_height(), (c.get_x() + c.get_width() / 2., c.get_height()),\n",
    "                ha='center', va='center', fontsize=10, color='black', xytext=(0, 15),\n",
    "                textcoords='offset points')"
   ]
  },
  {
   "cell_type": "markdown",
   "id": "18a61d90",
   "metadata": {},
   "source": [
    "Yellow Cab Company's average profit per ride is \\\\$160, while Pink Cab Company's average profit per trip is \\\\$63."
   ]
  },
  {
   "cell_type": "markdown",
   "id": "debc93ec",
   "metadata": {},
   "source": [
    "#### Distribution of Kilometre Travelled"
   ]
  },
  {
   "cell_type": "code",
   "execution_count": 33,
   "id": "85b95b0d",
   "metadata": {},
   "outputs": [
    {
     "data": {
      "image/png": "[encoded data removed]",
      "text/plain": [
       "<Figure size 809x360 with 2 Axes>"
      ]
     },
     "metadata": {
      "needs_background": "light"
     },
     "output_type": "display_data"
    }
   ],
   "source": [
    "# distribution of kilometre travelled\n",
    "ax = sns.displot(final_cab_data, x='KM Travelled', col='Company',\n",
    "                 hue='Company', kind='kde', palette=['pink', 'yellow'])"
   ]
  },
  {
   "cell_type": "markdown",
   "id": "94bdb53c",
   "metadata": {},
   "source": [
    "#### Income Class"
   ]
  },
  {
   "cell_type": "code",
   "execution_count": 34,
   "id": "01c65905",
   "metadata": {},
   "outputs": [
    {
     "data": {
      "image/png": "[encoded data removed]",
      "text/plain": [
       "<Figure size 1152x648 with 1 Axes>"
      ]
     },
     "metadata": {
      "needs_background": "light"
     },
     "output_type": "display_data"
    }
   ],
   "source": [
    "# number of users per income group\n",
    "income_class = final_cab_data.groupby(['Company', 'Income Class'])['Users'].count().reset_index()\n",
    "\n",
    "fig, ax = plt.subplots(figsize=[16, 9])\n",
    "ax = sns.barplot(x = 'Income Class', y = 'Users', data =income_class, hue = 'Company', palette = ['pink','yellow'], order = ['Poor or near-poor', 'Lower-middle class', 'Middle class', 'Upper-middle class', 'Rich'])\n",
    "\n",
    "ax.set_title('Users per Income Group')\n",
    "ax.set_ylabel('Users')\n",
    "for c in ax.patches:\n",
    "    ax.annotate(\"%.0f\" % c.get_height(), (c.get_x() + c.get_width() / 2., c.get_height()),\n",
    "        ha='center', va='center', fontsize=10, color='black', xytext=(0, 15),\n",
    "        textcoords='offset points')"
   ]
  },
  {
   "cell_type": "markdown",
   "id": "897cc916",
   "metadata": {},
   "source": [
    "Yellow Cab has more users in each income class than Pink Cab."
   ]
  },
  {
   "cell_type": "markdown",
   "id": "7b5e7dcd",
   "metadata": {},
   "source": [
    "#### Age Group Reach"
   ]
  },
  {
   "cell_type": "code",
   "execution_count": 35,
   "id": "d47990d2",
   "metadata": {},
   "outputs": [
    {
     "data": {
      "image/png": "[encoded data removed]",
      "text/plain": [
       "<Figure size 1152x648 with 1 Axes>"
      ]
     },
     "metadata": {
      "needs_background": "light"
     },
     "output_type": "display_data"
    }
   ],
   "source": [
    "# number of users per age group\n",
    "age_group = final_cab_data.groupby(['Company', 'Age Group'])['Users'].count().reset_index()\n",
    "\n",
    "fig, ax = plt.subplots(figsize=[16, 9])\n",
    "ax = sns.barplot(x = 'Age Group', y = 'Users', data =age_group, hue = 'Company', palette = ['pink','yellow'], order = ['18-25', '26-40', '41-60', '60+'])\n",
    "\n",
    "ax.set_title('Users per Age Group')\n",
    "ax.set_ylabel('Users')\n",
    "for c in ax.patches:\n",
    "    ax.annotate(\"%.0f\" % c.get_height(), (c.get_x() + c.get_width() / 2., c.get_height()),\n",
    "        ha='center', va='center', fontsize=10, color='black', xytext=(0, 15),\n",
    "        textcoords='offset points')"
   ]
  },
  {
   "cell_type": "markdown",
   "id": "96aa9373",
   "metadata": {},
   "source": [
    "Yellow Cab has more users in each age group than Pink Cab."
   ]
  },
  {
   "cell_type": "markdown",
   "id": "8acf67c1",
   "metadata": {},
   "source": [
    "#### Payment Method"
   ]
  },
  {
   "cell_type": "code",
   "execution_count": 36,
   "id": "366feb74",
   "metadata": {},
   "outputs": [
    {
     "data": {
      "image/png": "[encoded data removed]",
      "text/plain": [
       "<Figure size 1152x648 with 1 Axes>"
      ]
     },
     "metadata": {
      "needs_background": "light"
     },
     "output_type": "display_data"
    }
   ],
   "source": [
    "# plot of preferred payment method\n",
    "fig, ax = plt.subplots(figsize=[16, 9])\n",
    "ax = sns.countplot(data=final_cab_data, x='Payment_Mode', hue='Company', palette = ['pink','yellow'])\n",
    "\n",
    "ax.set_title('Preferred Payment Method')\n",
    "ax.set_xlabel('Payment Method')\n",
    "\n",
    "ax.set_ylabel('Count')\n",
    "for c in ax.patches:\n",
    "    ax.annotate(\"%.0f\" % c.get_height(), (c.get_x() + c.get_width() / 2., c.get_height()),\n",
    "                ha='center', va='center', fontsize=10, color='black', xytext=(0, 15),\n",
    "                textcoords='offset points')"
   ]
  },
  {
   "cell_type": "markdown",
   "id": "c8908112",
   "metadata": {},
   "source": [
    "Card payment is the preferred method for both cab companies."
   ]
  },
  {
   "cell_type": "markdown",
   "id": "80c412d0",
   "metadata": {},
   "source": [
    "#### Customer Reach"
   ]
  },
  {
   "cell_type": "code",
   "execution_count": 37,
   "id": "a9852c08",
   "metadata": {},
   "outputs": [
    {
     "data": {
      "image/png": "[encoded data removed]",
      "text/plain": [
       "<Figure size 1152x648 with 1 Axes>"
      ]
     },
     "metadata": {
      "needs_background": "light"
     },
     "output_type": "display_data"
    }
   ],
   "source": [
    "# plot of users in each city\n",
    "city_trips = final_cab_data.groupby(['Company', 'City'])[\n",
    "    'Users'].count().reset_index()\n",
    "fig, ax = plt.subplots(figsize=[16, 9])\n",
    "ax = sns.barplot(y='City', x='Users', data=city_trips, hue='Company', palette=['pink', 'yellow'], order=final_cab_data.groupby(\n",
    "    ['City'])['Users'].count().reset_index().sort_values('Users', ascending=False).City)\n",
    "\n",
    "ax.set_xlabel('Users')\n",
    "ax.set_title('Users in each City');"
   ]
  },
  {
   "cell_type": "markdown",
   "id": "cc3cffdd",
   "metadata": {},
   "source": [
    "Yellow Cab outnumbers Pink Cab in the Top 5 cities with the most users."
   ]
  },
  {
   "cell_type": "markdown",
   "id": "07fca2f8",
   "metadata": {},
   "source": [
    "#### Customer Retention"
   ]
  },
  {
   "cell_type": "code",
   "execution_count": 38,
   "id": "abbd5a87",
   "metadata": {},
   "outputs": [
    {
     "data": {
      "image/png": "[encoded data removed]",
      "text/plain": [
       "<Figure size 1152x648 with 1 Axes>"
      ]
     },
     "metadata": {
      "needs_background": "light"
     },
     "output_type": "display_data"
    }
   ],
   "source": [
    "# plot of customer retention over the years\n",
    "customer_trips = final_cab_data.groupby(['Company', 'Year','Customer ID'])['Transaction ID'].count().reset_index()\n",
    "customer_trips.columns = ['Company','Year','Customer ID', 'Number of Rides']\n",
    "customer_retention = customer_trips[customer_trips['Number of Rides'] > 5]\n",
    "\n",
    "fig, ax = plt.subplots(figsize=[16, 9])\n",
    "sns.lineplot(x = 'Year', y = 'Number of Rides', data = customer_retention, hue = 'Company', palette = ['pink', 'yellow'], ci=None, marker='o')\n",
    "ax.set_title('Customer Retention over the Years')\n",
    "ax.set_ylabel('Rides')\n",
    "ax.set_xticks(customer_retention['Year'].unique());"
   ]
  },
  {
   "cell_type": "markdown",
   "id": "d8788ae5",
   "metadata": {},
   "source": [
    "Yellow Cab is doing a better job than Pink Cab in terms of customer retention."
   ]
  },
  {
   "cell_type": "code",
   "execution_count": 39,
   "id": "e8c02e2a",
   "metadata": {},
   "outputs": [
    {
     "data": {
      "text/html": [
       "<div>\n",
       "<style scoped>\n",
       "    .dataframe tbody tr th:only-of-type {\n",
       "        vertical-align: middle;\n",
       "    }\n",
       "\n",
       "    .dataframe tbody tr th {\n",
       "        vertical-align: top;\n",
       "    }\n",
       "\n",
       "    .dataframe thead th {\n",
       "        text-align: right;\n",
       "    }\n",
       "</style>\n",
       "<table border=\"1\" class=\"dataframe\">\n",
       "  <thead>\n",
       "    <tr style=\"text-align: right;\">\n",
       "      <th></th>\n",
       "      <th>Transaction ID</th>\n",
       "      <th>Customer ID</th>\n",
       "      <th>Payment_Mode</th>\n",
       "      <th>Gender</th>\n",
       "      <th>Age</th>\n",
       "      <th>Income (USD/Month)</th>\n",
       "      <th>Date of Travel</th>\n",
       "      <th>Company</th>\n",
       "      <th>City</th>\n",
       "      <th>KM Travelled</th>\n",
       "      <th>Price Charged</th>\n",
       "      <th>Cost of Trip</th>\n",
       "      <th>Population</th>\n",
       "      <th>Users</th>\n",
       "      <th>Profit</th>\n",
       "      <th>Profit per KM</th>\n",
       "      <th>Income Class</th>\n",
       "      <th>Age Group</th>\n",
       "      <th>Year</th>\n",
       "      <th>Month</th>\n",
       "    </tr>\n",
       "  </thead>\n",
       "  <tbody>\n",
       "    <tr>\n",
       "      <th>0</th>\n",
       "      <td>10000011</td>\n",
       "      <td>29290</td>\n",
       "      <td>Card</td>\n",
       "      <td>Male</td>\n",
       "      <td>28</td>\n",
       "      <td>10813</td>\n",
       "      <td>2016-01-08</td>\n",
       "      <td>Pink Cab</td>\n",
       "      <td>ATLANTA GA</td>\n",
       "      <td>30.45</td>\n",
       "      <td>370.95</td>\n",
       "      <td>313.6350</td>\n",
       "      <td>814885</td>\n",
       "      <td>24701</td>\n",
       "      <td>57.32</td>\n",
       "      <td>1.88</td>\n",
       "      <td>Upper-middle class</td>\n",
       "      <td>26-40</td>\n",
       "      <td>2016</td>\n",
       "      <td>January</td>\n",
       "    </tr>\n",
       "    <tr>\n",
       "      <th>1</th>\n",
       "      <td>10351127</td>\n",
       "      <td>29290</td>\n",
       "      <td>Cash</td>\n",
       "      <td>Male</td>\n",
       "      <td>28</td>\n",
       "      <td>10813</td>\n",
       "      <td>2018-07-21</td>\n",
       "      <td>Yellow Cab</td>\n",
       "      <td>ATLANTA GA</td>\n",
       "      <td>26.19</td>\n",
       "      <td>598.70</td>\n",
       "      <td>317.4228</td>\n",
       "      <td>814885</td>\n",
       "      <td>24701</td>\n",
       "      <td>281.28</td>\n",
       "      <td>10.74</td>\n",
       "      <td>Upper-middle class</td>\n",
       "      <td>26-40</td>\n",
       "      <td>2018</td>\n",
       "      <td>July</td>\n",
       "    </tr>\n",
       "    <tr>\n",
       "      <th>2</th>\n",
       "      <td>10412921</td>\n",
       "      <td>29290</td>\n",
       "      <td>Card</td>\n",
       "      <td>Male</td>\n",
       "      <td>28</td>\n",
       "      <td>10813</td>\n",
       "      <td>2018-11-23</td>\n",
       "      <td>Yellow Cab</td>\n",
       "      <td>ATLANTA GA</td>\n",
       "      <td>42.55</td>\n",
       "      <td>792.05</td>\n",
       "      <td>597.4020</td>\n",
       "      <td>814885</td>\n",
       "      <td>24701</td>\n",
       "      <td>194.65</td>\n",
       "      <td>4.57</td>\n",
       "      <td>Upper-middle class</td>\n",
       "      <td>26-40</td>\n",
       "      <td>2018</td>\n",
       "      <td>November</td>\n",
       "    </tr>\n",
       "    <tr>\n",
       "      <th>3</th>\n",
       "      <td>10000012</td>\n",
       "      <td>27703</td>\n",
       "      <td>Card</td>\n",
       "      <td>Male</td>\n",
       "      <td>27</td>\n",
       "      <td>9237</td>\n",
       "      <td>2016-01-06</td>\n",
       "      <td>Pink Cab</td>\n",
       "      <td>ATLANTA GA</td>\n",
       "      <td>28.62</td>\n",
       "      <td>358.52</td>\n",
       "      <td>334.8540</td>\n",
       "      <td>814885</td>\n",
       "      <td>24701</td>\n",
       "      <td>23.67</td>\n",
       "      <td>0.83</td>\n",
       "      <td>Upper-middle class</td>\n",
       "      <td>26-40</td>\n",
       "      <td>2016</td>\n",
       "      <td>January</td>\n",
       "    </tr>\n",
       "    <tr>\n",
       "      <th>4</th>\n",
       "      <td>10320494</td>\n",
       "      <td>27703</td>\n",
       "      <td>Card</td>\n",
       "      <td>Male</td>\n",
       "      <td>27</td>\n",
       "      <td>9237</td>\n",
       "      <td>2018-04-21</td>\n",
       "      <td>Yellow Cab</td>\n",
       "      <td>ATLANTA GA</td>\n",
       "      <td>36.38</td>\n",
       "      <td>721.10</td>\n",
       "      <td>467.1192</td>\n",
       "      <td>814885</td>\n",
       "      <td>24701</td>\n",
       "      <td>253.98</td>\n",
       "      <td>6.98</td>\n",
       "      <td>Upper-middle class</td>\n",
       "      <td>26-40</td>\n",
       "      <td>2018</td>\n",
       "      <td>April</td>\n",
       "    </tr>\n",
       "  </tbody>\n",
       "</table>\n",
       "</div>"
      ],
      "text/plain": [
       "   Transaction ID  Customer ID Payment_Mode Gender  Age  Income (USD/Month)  \\\n",
       "0        10000011        29290         Card   Male   28               10813   \n",
       "1        10351127        29290         Cash   Male   28               10813   \n",
       "2        10412921        29290         Card   Male   28               10813   \n",
       "3        10000012        27703         Card   Male   27                9237   \n",
       "4        10320494        27703         Card   Male   27                9237   \n",
       "\n",
       "  Date of Travel     Company        City  KM Travelled  Price Charged  \\\n",
       "0     2016-01-08    Pink Cab  ATLANTA GA         30.45         370.95   \n",
       "1     2018-07-21  Yellow Cab  ATLANTA GA         26.19         598.70   \n",
       "2     2018-11-23  Yellow Cab  ATLANTA GA         42.55         792.05   \n",
       "3     2016-01-06    Pink Cab  ATLANTA GA         28.62         358.52   \n",
       "4     2018-04-21  Yellow Cab  ATLANTA GA         36.38         721.10   \n",
       "\n",
       "   Cost of Trip  Population  Users  Profit  Profit per KM        Income Class  \\\n",
       "0      313.6350      814885  24701   57.32           1.88  Upper-middle class   \n",
       "1      317.4228      814885  24701  281.28          10.74  Upper-middle class   \n",
       "2      597.4020      814885  24701  194.65           4.57  Upper-middle class   \n",
       "3      334.8540      814885  24701   23.67           0.83  Upper-middle class   \n",
       "4      467.1192      814885  24701  253.98           6.98  Upper-middle class   \n",
       "\n",
       "  Age Group  Year     Month  \n",
       "0     26-40  2016   January  \n",
       "1     26-40  2018      July  \n",
       "2     26-40  2018  November  \n",
       "3     26-40  2016   January  \n",
       "4     26-40  2018     April  "
      ]
     },
     "execution_count": 39,
     "metadata": {},
     "output_type": "execute_result"
    }
   ],
   "source": [
    "# extract the month from \"Date of Travel\" column\n",
    "final_cab_data['Month'] = final_cab_data['Date of Travel'].dt.month_name()\n",
    "final_cab_data.head()"
   ]
  },
  {
   "cell_type": "markdown",
   "id": "0861f52a",
   "metadata": {},
   "source": [
    "#### Monthly Rides"
   ]
  },
  {
   "cell_type": "code",
   "execution_count": 40,
   "id": "d6a385c9",
   "metadata": {},
   "outputs": [
    {
     "data": {
      "image/png": "[encoded data removed]",
      "text/plain": [
       "<Figure size 1152x648 with 1 Axes>"
      ]
     },
     "metadata": {
      "needs_background": "light"
     },
     "output_type": "display_data"
    }
   ],
   "source": [
    "# plot of number of rides in each month \n",
    "month = final_cab_data.groupby(['Month', 'Company'])[\n",
    "    'Transaction ID'].count().reset_index()\n",
    "plt.figure(figsize=(16, 9))\n",
    "\n",
    "ax = sns.barplot(x='Month', y='Transaction ID', hue='Company', data=month, palette=['pink', 'yellow'], order=[\n",
    "                 'January', 'February', 'March', 'April', 'May', 'June', 'July', 'August', 'September', 'October', 'November', 'December'])\n",
    "ax.set_title(\"Rides in each Month\")\n",
    "ax.set_ylabel(\"Count\")\n",
    "for c in ax.patches:\n",
    "    ax.annotate(\"%.0f\" % c.get_height(), (c.get_x() + c.get_width() / 2., c.get_height()),\n",
    "                ha='center', va='center', fontsize=10, color='black', xytext=(0, 15),\n",
    "                textcoords='offset points')"
   ]
  },
  {
   "cell_type": "markdown",
   "id": "cd23844c",
   "metadata": {},
   "source": [
    "There are more rides from September to December, which indicates that there is a significant demand for cabs throughout those months."
   ]
  },
  {
   "cell_type": "markdown",
   "id": "af278abd",
   "metadata": {},
   "source": [
    "## Recommendation"
   ]
  },
  {
   "cell_type": "markdown",
   "id": "9a192269",
   "metadata": {},
   "source": [
    "**Number of Rides**: Yellow Cab company has more number of rides over the years.\n",
    "\n",
    "**Profit**: Yellow Cab company has earned more than eight times the earnings of Pink Cab Company, and Yellow Cab Company has earned more profit per kilometre travelled.\n",
    "\n",
    "**Income Class**: Yellow Cab company has more users in each income class than Pink Cab.\n",
    "\n",
    "**Customer Reach**: Yellow Cab company outnumbers Pink Cab in the Top 5 cities with the most users.\n",
    "\n",
    "**Customer Retention**: Yellow Cab is doing a better job than Pink Cab in terms of customer retention.\n",
    "\n",
    "Based on the analysis and answered questions, we can conclude that **Yellow Cab** is a better investment option than Pink Cab."
   ]
  }
 ],
 "metadata": {
  "kernelspec": {
   "display_name": "Python 3 (ipykernel)",
   "language": "python",
   "name": "python3"
  },
  "language_info": {
   "codemirror_mode": {
    "name": "ipython",
    "version": 3
   },
   "file_extension": ".py",
   "mimetype": "text/x-python",
   "name": "python",
   "nbconvert_exporter": "python",
   "pygments_lexer": "ipython3",
   "version": "3.9.7"
  }
 },
 "nbformat": 4,
 "nbformat_minor": 5
}
